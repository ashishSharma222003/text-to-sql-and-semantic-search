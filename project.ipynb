{
 "cells": [
  {
   "cell_type": "code",
   "execution_count": 1,
   "metadata": {},
   "outputs": [
    {
     "name": "stdout",
     "output_type": "stream",
     "text": [
      "Requirement already satisfied: llama-index-agent-openai in c:\\users\\ashish\\appdata\\local\\programs\\python\\python39\\lib\\site-packages (0.2.7)\n",
      "Requirement already satisfied: llama-index-core<0.11.0,>=0.10.41 in c:\\users\\ashish\\appdata\\local\\programs\\python\\python39\\lib\\site-packages (from llama-index-agent-openai) (0.10.43)\n",
      "Requirement already satisfied: llama-index-llms-openai<0.2.0,>=0.1.5 in c:\\users\\ashish\\appdata\\local\\programs\\python\\python39\\lib\\site-packages (from llama-index-agent-openai) (0.1.22)\n",
      "Requirement already satisfied: openai>=1.14.0 in c:\\users\\ashish\\appdata\\local\\programs\\python\\python39\\lib\\site-packages (from llama-index-agent-openai) (1.31.1)\n",
      "Requirement already satisfied: PyYAML>=6.0.1 in c:\\users\\ashish\\appdata\\local\\programs\\python\\python39\\lib\\site-packages (from llama-index-core<0.11.0,>=0.10.41->llama-index-agent-openai) (6.0.1)\n",
      "Requirement already satisfied: SQLAlchemy>=1.4.49 in c:\\users\\ashish\\appdata\\local\\programs\\python\\python39\\lib\\site-packages (from SQLAlchemy[asyncio]>=1.4.49->llama-index-core<0.11.0,>=0.10.41->llama-index-agent-openai) (2.0.28)\n",
      "Requirement already satisfied: aiohttp<4.0.0,>=3.8.6 in c:\\users\\ashish\\appdata\\local\\programs\\python\\python39\\lib\\site-packages (from llama-index-core<0.11.0,>=0.10.41->llama-index-agent-openai) (3.9.3)\n",
      "Requirement already satisfied: dataclasses-json in c:\\users\\ashish\\appdata\\local\\programs\\python\\python39\\lib\\site-packages (from llama-index-core<0.11.0,>=0.10.41->llama-index-agent-openai) (0.6.4)\n",
      "Requirement already satisfied: deprecated>=1.2.9.3 in c:\\users\\ashish\\appdata\\local\\programs\\python\\python39\\lib\\site-packages (from llama-index-core<0.11.0,>=0.10.41->llama-index-agent-openai) (1.2.14)\n",
      "Requirement already satisfied: dirtyjson<2.0.0,>=1.0.8 in c:\\users\\ashish\\appdata\\local\\programs\\python\\python39\\lib\\site-packages (from llama-index-core<0.11.0,>=0.10.41->llama-index-agent-openai) (1.0.8)\n",
      "Requirement already satisfied: fsspec>=2023.5.0 in c:\\users\\ashish\\appdata\\local\\programs\\python\\python39\\lib\\site-packages (from llama-index-core<0.11.0,>=0.10.41->llama-index-agent-openai) (2023.12.2)\n",
      "Requirement already satisfied: httpx in c:\\users\\ashish\\appdata\\local\\programs\\python\\python39\\lib\\site-packages (from llama-index-core<0.11.0,>=0.10.41->llama-index-agent-openai) (0.24.1)\n",
      "Requirement already satisfied: llamaindex-py-client<0.2.0,>=0.1.18 in c:\\users\\ashish\\appdata\\local\\programs\\python\\python39\\lib\\site-packages (from llama-index-core<0.11.0,>=0.10.41->llama-index-agent-openai) (0.1.19)\n",
      "Requirement already satisfied: nest-asyncio<2.0.0,>=1.5.8 in c:\\users\\ashish\\appdata\\local\\programs\\python\\python39\\lib\\site-packages (from llama-index-core<0.11.0,>=0.10.41->llama-index-agent-openai) (1.6.0)\n",
      "Requirement already satisfied: networkx>=3.0 in c:\\users\\ashish\\appdata\\local\\programs\\python\\python39\\lib\\site-packages (from llama-index-core<0.11.0,>=0.10.41->llama-index-agent-openai) (3.1)\n",
      "Requirement already satisfied: nltk<4.0.0,>=3.8.1 in c:\\users\\ashish\\appdata\\local\\programs\\python\\python39\\lib\\site-packages (from llama-index-core<0.11.0,>=0.10.41->llama-index-agent-openai) (3.8.1)\n",
      "Requirement already satisfied: numpy in c:\\users\\ashish\\appdata\\local\\programs\\python\\python39\\lib\\site-packages (from llama-index-core<0.11.0,>=0.10.41->llama-index-agent-openai) (1.23.5)\n",
      "Requirement already satisfied: pandas in c:\\users\\ashish\\appdata\\local\\programs\\python\\python39\\lib\\site-packages (from llama-index-core<0.11.0,>=0.10.41->llama-index-agent-openai) (2.2.0)\n",
      "Requirement already satisfied: pillow>=9.0.0 in c:\\users\\ashish\\appdata\\local\\programs\\python\\python39\\lib\\site-packages (from llama-index-core<0.11.0,>=0.10.41->llama-index-agent-openai) (9.4.0)\n",
      "Requirement already satisfied: requests>=2.31.0 in c:\\users\\ashish\\appdata\\local\\programs\\python\\python39\\lib\\site-packages (from llama-index-core<0.11.0,>=0.10.41->llama-index-agent-openai) (2.31.0)\n",
      "Requirement already satisfied: tenacity<9.0.0,>=8.2.0 in c:\\users\\ashish\\appdata\\local\\programs\\python\\python39\\lib\\site-packages (from llama-index-core<0.11.0,>=0.10.41->llama-index-agent-openai) (8.2.3)\n",
      "Requirement already satisfied: tiktoken>=0.3.3 in c:\\users\\ashish\\appdata\\local\\programs\\python\\python39\\lib\\site-packages (from llama-index-core<0.11.0,>=0.10.41->llama-index-agent-openai) (0.6.0)\n",
      "Requirement already satisfied: tqdm<5.0.0,>=4.66.1 in c:\\users\\ashish\\appdata\\local\\programs\\python\\python39\\lib\\site-packages (from llama-index-core<0.11.0,>=0.10.41->llama-index-agent-openai) (4.66.1)\n",
      "Requirement already satisfied: typing-extensions>=4.5.0 in c:\\users\\ashish\\appdata\\local\\programs\\python\\python39\\lib\\site-packages (from llama-index-core<0.11.0,>=0.10.41->llama-index-agent-openai) (4.10.0)\n",
      "Requirement already satisfied: typing-inspect>=0.8.0 in c:\\users\\ashish\\appdata\\local\\programs\\python\\python39\\lib\\site-packages (from llama-index-core<0.11.0,>=0.10.41->llama-index-agent-openai) (0.9.0)\n",
      "Requirement already satisfied: wrapt in c:\\users\\ashish\\appdata\\roaming\\python\\python39\\site-packages (from llama-index-core<0.11.0,>=0.10.41->llama-index-agent-openai) (1.12.1)\n",
      "Requirement already satisfied: anyio<5,>=3.5.0 in c:\\users\\ashish\\appdata\\local\\programs\\python\\python39\\lib\\site-packages (from openai>=1.14.0->llama-index-agent-openai) (3.7.0)\n",
      "Requirement already satisfied: distro<2,>=1.7.0 in c:\\users\\ashish\\appdata\\local\\programs\\python\\python39\\lib\\site-packages (from openai>=1.14.0->llama-index-agent-openai) (1.8.0)\n",
      "Requirement already satisfied: pydantic<3,>=1.9.0 in c:\\users\\ashish\\appdata\\local\\programs\\python\\python39\\lib\\site-packages (from openai>=1.14.0->llama-index-agent-openai) (2.6.3)\n",
      "Requirement already satisfied: sniffio in c:\\users\\ashish\\appdata\\local\\programs\\python\\python39\\lib\\site-packages (from openai>=1.14.0->llama-index-agent-openai) (1.3.0)\n",
      "Requirement already satisfied: aiosignal>=1.1.2 in c:\\users\\ashish\\appdata\\local\\programs\\python\\python39\\lib\\site-packages (from aiohttp<4.0.0,>=3.8.6->llama-index-core<0.11.0,>=0.10.41->llama-index-agent-openai) (1.3.1)\n",
      "Requirement already satisfied: attrs>=17.3.0 in c:\\users\\ashish\\appdata\\local\\programs\\python\\python39\\lib\\site-packages (from aiohttp<4.0.0,>=3.8.6->llama-index-core<0.11.0,>=0.10.41->llama-index-agent-openai) (23.2.0)\n",
      "Requirement already satisfied: frozenlist>=1.1.1 in c:\\users\\ashish\\appdata\\local\\programs\\python\\python39\\lib\\site-packages (from aiohttp<4.0.0,>=3.8.6->llama-index-core<0.11.0,>=0.10.41->llama-index-agent-openai) (1.4.1)\n",
      "Requirement already satisfied: multidict<7.0,>=4.5 in c:\\users\\ashish\\appdata\\local\\programs\\python\\python39\\lib\\site-packages (from aiohttp<4.0.0,>=3.8.6->llama-index-core<0.11.0,>=0.10.41->llama-index-agent-openai) (6.0.5)\n",
      "Requirement already satisfied: yarl<2.0,>=1.0 in c:\\users\\ashish\\appdata\\local\\programs\\python\\python39\\lib\\site-packages (from aiohttp<4.0.0,>=3.8.6->llama-index-core<0.11.0,>=0.10.41->llama-index-agent-openai) (1.9.4)\n",
      "Requirement already satisfied: async-timeout<5.0,>=4.0 in c:\\users\\ashish\\appdata\\local\\programs\\python\\python39\\lib\\site-packages (from aiohttp<4.0.0,>=3.8.6->llama-index-core<0.11.0,>=0.10.41->llama-index-agent-openai) (4.0.3)\n",
      "Requirement already satisfied: idna>=2.8 in c:\\users\\ashish\\appdata\\local\\programs\\python\\python39\\lib\\site-packages (from anyio<5,>=3.5.0->openai>=1.14.0->llama-index-agent-openai) (3.4)\n",
      "Requirement already satisfied: exceptiongroup in c:\\users\\ashish\\appdata\\local\\programs\\python\\python39\\lib\\site-packages (from anyio<5,>=3.5.0->openai>=1.14.0->llama-index-agent-openai) (1.1.1)\n",
      "Requirement already satisfied: certifi in c:\\users\\ashish\\appdata\\local\\programs\\python\\python39\\lib\\site-packages (from httpx->llama-index-core<0.11.0,>=0.10.41->llama-index-agent-openai) (2023.5.7)\n",
      "Requirement already satisfied: httpcore<0.18.0,>=0.15.0 in c:\\users\\ashish\\appdata\\local\\programs\\python\\python39\\lib\\site-packages (from httpx->llama-index-core<0.11.0,>=0.10.41->llama-index-agent-openai) (0.17.2)\n",
      "Requirement already satisfied: click in c:\\users\\ashish\\appdata\\local\\programs\\python\\python39\\lib\\site-packages (from nltk<4.0.0,>=3.8.1->llama-index-core<0.11.0,>=0.10.41->llama-index-agent-openai) (8.1.7)\n",
      "Requirement already satisfied: joblib in c:\\users\\ashish\\appdata\\local\\programs\\python\\python39\\lib\\site-packages (from nltk<4.0.0,>=3.8.1->llama-index-core<0.11.0,>=0.10.41->llama-index-agent-openai) (1.3.2)\n",
      "Requirement already satisfied: regex>=2021.8.3 in c:\\users\\ashish\\appdata\\local\\programs\\python\\python39\\lib\\site-packages (from nltk<4.0.0,>=3.8.1->llama-index-core<0.11.0,>=0.10.41->llama-index-agent-openai) (2023.10.3)\n",
      "Requirement already satisfied: annotated-types>=0.4.0 in c:\\users\\ashish\\appdata\\local\\programs\\python\\python39\\lib\\site-packages (from pydantic<3,>=1.9.0->openai>=1.14.0->llama-index-agent-openai) (0.6.0)\n",
      "Requirement already satisfied: pydantic-core==2.16.3 in c:\\users\\ashish\\appdata\\local\\programs\\python\\python39\\lib\\site-packages (from pydantic<3,>=1.9.0->openai>=1.14.0->llama-index-agent-openai) (2.16.3)\n",
      "Requirement already satisfied: charset-normalizer<4,>=2 in c:\\users\\ashish\\appdata\\local\\programs\\python\\python39\\lib\\site-packages (from requests>=2.31.0->llama-index-core<0.11.0,>=0.10.41->llama-index-agent-openai) (3.1.0)\n",
      "Requirement already satisfied: urllib3<3,>=1.21.1 in c:\\users\\ashish\\appdata\\local\\programs\\python\\python39\\lib\\site-packages (from requests>=2.31.0->llama-index-core<0.11.0,>=0.10.41->llama-index-agent-openai) (1.26.16)\n",
      "Requirement already satisfied: greenlet!=0.4.17 in c:\\users\\ashish\\appdata\\local\\programs\\python\\python39\\lib\\site-packages (from SQLAlchemy>=1.4.49->SQLAlchemy[asyncio]>=1.4.49->llama-index-core<0.11.0,>=0.10.41->llama-index-agent-openai) (3.0.3)\n",
      "Requirement already satisfied: colorama in c:\\users\\ashish\\appdata\\roaming\\python\\python39\\site-packages (from tqdm<5.0.0,>=4.66.1->llama-index-core<0.11.0,>=0.10.41->llama-index-agent-openai) (0.4.4)\n",
      "Requirement already satisfied: mypy-extensions>=0.3.0 in c:\\users\\ashish\\appdata\\local\\programs\\python\\python39\\lib\\site-packages (from typing-inspect>=0.8.0->llama-index-core<0.11.0,>=0.10.41->llama-index-agent-openai) (1.0.0)\n",
      "Requirement already satisfied: marshmallow<4.0.0,>=3.18.0 in c:\\users\\ashish\\appdata\\local\\programs\\python\\python39\\lib\\site-packages (from dataclasses-json->llama-index-core<0.11.0,>=0.10.41->llama-index-agent-openai) (3.21.1)\n",
      "Requirement already satisfied: python-dateutil>=2.8.2 in c:\\users\\ashish\\appdata\\local\\programs\\python\\python39\\lib\\site-packages (from pandas->llama-index-core<0.11.0,>=0.10.41->llama-index-agent-openai) (2.8.2)\n",
      "Requirement already satisfied: pytz>=2020.1 in c:\\users\\ashish\\appdata\\local\\programs\\python\\python39\\lib\\site-packages (from pandas->llama-index-core<0.11.0,>=0.10.41->llama-index-agent-openai) (2024.1)\n",
      "Requirement already satisfied: tzdata>=2022.7 in c:\\users\\ashish\\appdata\\local\\programs\\python\\python39\\lib\\site-packages (from pandas->llama-index-core<0.11.0,>=0.10.41->llama-index-agent-openai) (2024.1)\n",
      "Requirement already satisfied: h11<0.15,>=0.13 in c:\\users\\ashish\\appdata\\local\\programs\\python\\python39\\lib\\site-packages (from httpcore<0.18.0,>=0.15.0->httpx->llama-index-core<0.11.0,>=0.10.41->llama-index-agent-openai) (0.14.0)\n",
      "Requirement already satisfied: packaging>=17.0 in c:\\users\\ashish\\appdata\\local\\programs\\python\\python39\\lib\\site-packages (from marshmallow<4.0.0,>=3.18.0->dataclasses-json->llama-index-core<0.11.0,>=0.10.41->llama-index-agent-openai) (23.2)\n",
      "Requirement already satisfied: six>=1.5 in c:\\users\\ashish\\appdata\\roaming\\python\\python39\\site-packages (from python-dateutil>=2.8.2->pandas->llama-index-core<0.11.0,>=0.10.41->llama-index-agent-openai) (1.15.0)\n",
      "Note: you may need to restart the kernel to use updated packages.\n"
     ]
    },
    {
     "name": "stderr",
     "output_type": "stream",
     "text": [
      "\n",
      "[notice] A new release of pip is available: 23.3.1 -> 24.0\n",
      "[notice] To update, run: python.exe -m pip install --upgrade pip\n"
     ]
    },
    {
     "name": "stdout",
     "output_type": "stream",
     "text": [
      "Requirement already satisfied: llama-index-llms-openai in c:\\users\\ashish\\appdata\\local\\programs\\python\\python39\\lib\\site-packages (0.1.22)\n",
      "Requirement already satisfied: llama-index-core<0.11.0,>=0.10.24 in c:\\users\\ashish\\appdata\\local\\programs\\python\\python39\\lib\\site-packages (from llama-index-llms-openai) (0.10.43)\n",
      "Requirement already satisfied: PyYAML>=6.0.1 in c:\\users\\ashish\\appdata\\local\\programs\\python\\python39\\lib\\site-packages (from llama-index-core<0.11.0,>=0.10.24->llama-index-llms-openai) (6.0.1)\n",
      "Requirement already satisfied: SQLAlchemy>=1.4.49 in c:\\users\\ashish\\appdata\\local\\programs\\python\\python39\\lib\\site-packages (from SQLAlchemy[asyncio]>=1.4.49->llama-index-core<0.11.0,>=0.10.24->llama-index-llms-openai) (2.0.28)\n",
      "Requirement already satisfied: aiohttp<4.0.0,>=3.8.6 in c:\\users\\ashish\\appdata\\local\\programs\\python\\python39\\lib\\site-packages (from llama-index-core<0.11.0,>=0.10.24->llama-index-llms-openai) (3.9.3)\n",
      "Requirement already satisfied: dataclasses-json in c:\\users\\ashish\\appdata\\local\\programs\\python\\python39\\lib\\site-packages (from llama-index-core<0.11.0,>=0.10.24->llama-index-llms-openai) (0.6.4)\n",
      "Requirement already satisfied: deprecated>=1.2.9.3 in c:\\users\\ashish\\appdata\\local\\programs\\python\\python39\\lib\\site-packages (from llama-index-core<0.11.0,>=0.10.24->llama-index-llms-openai) (1.2.14)\n",
      "Requirement already satisfied: dirtyjson<2.0.0,>=1.0.8 in c:\\users\\ashish\\appdata\\local\\programs\\python\\python39\\lib\\site-packages (from llama-index-core<0.11.0,>=0.10.24->llama-index-llms-openai) (1.0.8)\n",
      "Requirement already satisfied: fsspec>=2023.5.0 in c:\\users\\ashish\\appdata\\local\\programs\\python\\python39\\lib\\site-packages (from llama-index-core<0.11.0,>=0.10.24->llama-index-llms-openai) (2023.12.2)\n",
      "Requirement already satisfied: httpx in c:\\users\\ashish\\appdata\\local\\programs\\python\\python39\\lib\\site-packages (from llama-index-core<0.11.0,>=0.10.24->llama-index-llms-openai) (0.24.1)\n",
      "Requirement already satisfied: llamaindex-py-client<0.2.0,>=0.1.18 in c:\\users\\ashish\\appdata\\local\\programs\\python\\python39\\lib\\site-packages (from llama-index-core<0.11.0,>=0.10.24->llama-index-llms-openai) (0.1.19)\n",
      "Requirement already satisfied: nest-asyncio<2.0.0,>=1.5.8 in c:\\users\\ashish\\appdata\\local\\programs\\python\\python39\\lib\\site-packages (from llama-index-core<0.11.0,>=0.10.24->llama-index-llms-openai) (1.6.0)\n",
      "Requirement already satisfied: networkx>=3.0 in c:\\users\\ashish\\appdata\\local\\programs\\python\\python39\\lib\\site-packages (from llama-index-core<0.11.0,>=0.10.24->llama-index-llms-openai) (3.1)\n",
      "Requirement already satisfied: nltk<4.0.0,>=3.8.1 in c:\\users\\ashish\\appdata\\local\\programs\\python\\python39\\lib\\site-packages (from llama-index-core<0.11.0,>=0.10.24->llama-index-llms-openai) (3.8.1)\n",
      "Requirement already satisfied: numpy in c:\\users\\ashish\\appdata\\local\\programs\\python\\python39\\lib\\site-packages (from llama-index-core<0.11.0,>=0.10.24->llama-index-llms-openai) (1.23.5)\n",
      "Requirement already satisfied: openai>=1.1.0 in c:\\users\\ashish\\appdata\\local\\programs\\python\\python39\\lib\\site-packages (from llama-index-core<0.11.0,>=0.10.24->llama-index-llms-openai) (1.31.1)\n",
      "Requirement already satisfied: pandas in c:\\users\\ashish\\appdata\\local\\programs\\python\\python39\\lib\\site-packages (from llama-index-core<0.11.0,>=0.10.24->llama-index-llms-openai) (2.2.0)\n",
      "Requirement already satisfied: pillow>=9.0.0 in c:\\users\\ashish\\appdata\\local\\programs\\python\\python39\\lib\\site-packages (from llama-index-core<0.11.0,>=0.10.24->llama-index-llms-openai) (9.4.0)\n",
      "Requirement already satisfied: requests>=2.31.0 in c:\\users\\ashish\\appdata\\local\\programs\\python\\python39\\lib\\site-packages (from llama-index-core<0.11.0,>=0.10.24->llama-index-llms-openai) (2.31.0)\n",
      "Requirement already satisfied: tenacity<9.0.0,>=8.2.0 in c:\\users\\ashish\\appdata\\local\\programs\\python\\python39\\lib\\site-packages (from llama-index-core<0.11.0,>=0.10.24->llama-index-llms-openai) (8.2.3)\n",
      "Requirement already satisfied: tiktoken>=0.3.3 in c:\\users\\ashish\\appdata\\local\\programs\\python\\python39\\lib\\site-packages (from llama-index-core<0.11.0,>=0.10.24->llama-index-llms-openai) (0.6.0)\n",
      "Requirement already satisfied: tqdm<5.0.0,>=4.66.1 in c:\\users\\ashish\\appdata\\local\\programs\\python\\python39\\lib\\site-packages (from llama-index-core<0.11.0,>=0.10.24->llama-index-llms-openai) (4.66.1)\n",
      "Requirement already satisfied: typing-extensions>=4.5.0 in c:\\users\\ashish\\appdata\\local\\programs\\python\\python39\\lib\\site-packages (from llama-index-core<0.11.0,>=0.10.24->llama-index-llms-openai) (4.10.0)\n",
      "Requirement already satisfied: typing-inspect>=0.8.0 in c:\\users\\ashish\\appdata\\local\\programs\\python\\python39\\lib\\site-packages (from llama-index-core<0.11.0,>=0.10.24->llama-index-llms-openai) (0.9.0)\n",
      "Requirement already satisfied: wrapt in c:\\users\\ashish\\appdata\\roaming\\python\\python39\\site-packages (from llama-index-core<0.11.0,>=0.10.24->llama-index-llms-openai) (1.12.1)\n",
      "Requirement already satisfied: aiosignal>=1.1.2 in c:\\users\\ashish\\appdata\\local\\programs\\python\\python39\\lib\\site-packages (from aiohttp<4.0.0,>=3.8.6->llama-index-core<0.11.0,>=0.10.24->llama-index-llms-openai) (1.3.1)\n",
      "Requirement already satisfied: attrs>=17.3.0 in c:\\users\\ashish\\appdata\\local\\programs\\python\\python39\\lib\\site-packages (from aiohttp<4.0.0,>=3.8.6->llama-index-core<0.11.0,>=0.10.24->llama-index-llms-openai) (23.2.0)\n",
      "Requirement already satisfied: frozenlist>=1.1.1 in c:\\users\\ashish\\appdata\\local\\programs\\python\\python39\\lib\\site-packages (from aiohttp<4.0.0,>=3.8.6->llama-index-core<0.11.0,>=0.10.24->llama-index-llms-openai) (1.4.1)\n",
      "Requirement already satisfied: multidict<7.0,>=4.5 in c:\\users\\ashish\\appdata\\local\\programs\\python\\python39\\lib\\site-packages (from aiohttp<4.0.0,>=3.8.6->llama-index-core<0.11.0,>=0.10.24->llama-index-llms-openai) (6.0.5)\n",
      "Requirement already satisfied: yarl<2.0,>=1.0 in c:\\users\\ashish\\appdata\\local\\programs\\python\\python39\\lib\\site-packages (from aiohttp<4.0.0,>=3.8.6->llama-index-core<0.11.0,>=0.10.24->llama-index-llms-openai) (1.9.4)\n",
      "Requirement already satisfied: async-timeout<5.0,>=4.0 in c:\\users\\ashish\\appdata\\local\\programs\\python\\python39\\lib\\site-packages (from aiohttp<4.0.0,>=3.8.6->llama-index-core<0.11.0,>=0.10.24->llama-index-llms-openai) (4.0.3)\n",
      "Requirement already satisfied: pydantic>=1.10 in c:\\users\\ashish\\appdata\\local\\programs\\python\\python39\\lib\\site-packages (from llamaindex-py-client<0.2.0,>=0.1.18->llama-index-core<0.11.0,>=0.10.24->llama-index-llms-openai) (2.6.3)\n",
      "Requirement already satisfied: certifi in c:\\users\\ashish\\appdata\\local\\programs\\python\\python39\\lib\\site-packages (from httpx->llama-index-core<0.11.0,>=0.10.24->llama-index-llms-openai) (2023.5.7)\n",
      "Requirement already satisfied: httpcore<0.18.0,>=0.15.0 in c:\\users\\ashish\\appdata\\local\\programs\\python\\python39\\lib\\site-packages (from httpx->llama-index-core<0.11.0,>=0.10.24->llama-index-llms-openai) (0.17.2)\n",
      "Requirement already satisfied: idna in c:\\users\\ashish\\appdata\\local\\programs\\python\\python39\\lib\\site-packages (from httpx->llama-index-core<0.11.0,>=0.10.24->llama-index-llms-openai) (3.4)\n",
      "Requirement already satisfied: sniffio in c:\\users\\ashish\\appdata\\local\\programs\\python\\python39\\lib\\site-packages (from httpx->llama-index-core<0.11.0,>=0.10.24->llama-index-llms-openai) (1.3.0)\n",
      "Requirement already satisfied: click in c:\\users\\ashish\\appdata\\local\\programs\\python\\python39\\lib\\site-packages (from nltk<4.0.0,>=3.8.1->llama-index-core<0.11.0,>=0.10.24->llama-index-llms-openai) (8.1.7)\n",
      "Requirement already satisfied: joblib in c:\\users\\ashish\\appdata\\local\\programs\\python\\python39\\lib\\site-packages (from nltk<4.0.0,>=3.8.1->llama-index-core<0.11.0,>=0.10.24->llama-index-llms-openai) (1.3.2)\n",
      "Requirement already satisfied: regex>=2021.8.3 in c:\\users\\ashish\\appdata\\local\\programs\\python\\python39\\lib\\site-packages (from nltk<4.0.0,>=3.8.1->llama-index-core<0.11.0,>=0.10.24->llama-index-llms-openai) (2023.10.3)\n",
      "Requirement already satisfied: anyio<5,>=3.5.0 in c:\\users\\ashish\\appdata\\local\\programs\\python\\python39\\lib\\site-packages (from openai>=1.1.0->llama-index-core<0.11.0,>=0.10.24->llama-index-llms-openai) (3.7.0)\n",
      "Requirement already satisfied: distro<2,>=1.7.0 in c:\\users\\ashish\\appdata\\local\\programs\\python\\python39\\lib\\site-packages (from openai>=1.1.0->llama-index-core<0.11.0,>=0.10.24->llama-index-llms-openai) (1.8.0)\n",
      "Requirement already satisfied: charset-normalizer<4,>=2 in c:\\users\\ashish\\appdata\\local\\programs\\python\\python39\\lib\\site-packages (from requests>=2.31.0->llama-index-core<0.11.0,>=0.10.24->llama-index-llms-openai) (3.1.0)\n",
      "Requirement already satisfied: urllib3<3,>=1.21.1 in c:\\users\\ashish\\appdata\\local\\programs\\python\\python39\\lib\\site-packages (from requests>=2.31.0->llama-index-core<0.11.0,>=0.10.24->llama-index-llms-openai) (1.26.16)\n",
      "Requirement already satisfied: greenlet!=0.4.17 in c:\\users\\ashish\\appdata\\local\\programs\\python\\python39\\lib\\site-packages (from SQLAlchemy>=1.4.49->SQLAlchemy[asyncio]>=1.4.49->llama-index-core<0.11.0,>=0.10.24->llama-index-llms-openai) (3.0.3)\n",
      "Requirement already satisfied: colorama in c:\\users\\ashish\\appdata\\roaming\\python\\python39\\site-packages (from tqdm<5.0.0,>=4.66.1->llama-index-core<0.11.0,>=0.10.24->llama-index-llms-openai) (0.4.4)\n",
      "Requirement already satisfied: mypy-extensions>=0.3.0 in c:\\users\\ashish\\appdata\\local\\programs\\python\\python39\\lib\\site-packages (from typing-inspect>=0.8.0->llama-index-core<0.11.0,>=0.10.24->llama-index-llms-openai) (1.0.0)\n",
      "Requirement already satisfied: marshmallow<4.0.0,>=3.18.0 in c:\\users\\ashish\\appdata\\local\\programs\\python\\python39\\lib\\site-packages (from dataclasses-json->llama-index-core<0.11.0,>=0.10.24->llama-index-llms-openai) (3.21.1)\n",
      "Requirement already satisfied: python-dateutil>=2.8.2 in c:\\users\\ashish\\appdata\\local\\programs\\python\\python39\\lib\\site-packages (from pandas->llama-index-core<0.11.0,>=0.10.24->llama-index-llms-openai) (2.8.2)\n",
      "Requirement already satisfied: pytz>=2020.1 in c:\\users\\ashish\\appdata\\local\\programs\\python\\python39\\lib\\site-packages (from pandas->llama-index-core<0.11.0,>=0.10.24->llama-index-llms-openai) (2024.1)\n",
      "Requirement already satisfied: tzdata>=2022.7 in c:\\users\\ashish\\appdata\\local\\programs\\python\\python39\\lib\\site-packages (from pandas->llama-index-core<0.11.0,>=0.10.24->llama-index-llms-openai) (2024.1)\n",
      "Requirement already satisfied: exceptiongroup in c:\\users\\ashish\\appdata\\local\\programs\\python\\python39\\lib\\site-packages (from anyio<5,>=3.5.0->openai>=1.1.0->llama-index-core<0.11.0,>=0.10.24->llama-index-llms-openai) (1.1.1)\n",
      "Requirement already satisfied: h11<0.15,>=0.13 in c:\\users\\ashish\\appdata\\local\\programs\\python\\python39\\lib\\site-packages (from httpcore<0.18.0,>=0.15.0->httpx->llama-index-core<0.11.0,>=0.10.24->llama-index-llms-openai) (0.14.0)\n",
      "Requirement already satisfied: packaging>=17.0 in c:\\users\\ashish\\appdata\\local\\programs\\python\\python39\\lib\\site-packages (from marshmallow<4.0.0,>=3.18.0->dataclasses-json->llama-index-core<0.11.0,>=0.10.24->llama-index-llms-openai) (23.2)\n",
      "Requirement already satisfied: annotated-types>=0.4.0 in c:\\users\\ashish\\appdata\\local\\programs\\python\\python39\\lib\\site-packages (from pydantic>=1.10->llamaindex-py-client<0.2.0,>=0.1.18->llama-index-core<0.11.0,>=0.10.24->llama-index-llms-openai) (0.6.0)\n",
      "Requirement already satisfied: pydantic-core==2.16.3 in c:\\users\\ashish\\appdata\\local\\programs\\python\\python39\\lib\\site-packages (from pydantic>=1.10->llamaindex-py-client<0.2.0,>=0.1.18->llama-index-core<0.11.0,>=0.10.24->llama-index-llms-openai) (2.16.3)\n",
      "Requirement already satisfied: six>=1.5 in c:\\users\\ashish\\appdata\\roaming\\python\\python39\\site-packages (from python-dateutil>=2.8.2->pandas->llama-index-core<0.11.0,>=0.10.24->llama-index-llms-openai) (1.15.0)\n",
      "Note: you may need to restart the kernel to use updated packages.\n"
     ]
    },
    {
     "name": "stderr",
     "output_type": "stream",
     "text": [
      "\n",
      "[notice] A new release of pip is available: 23.3.1 -> 24.0\n",
      "[notice] To update, run: python.exe -m pip install --upgrade pip\n"
     ]
    },
    {
     "name": "stdout",
     "output_type": "stream",
     "text": [
      "Collecting llama-index-readers-wikipedia\n",
      "  Downloading llama_index_readers_wikipedia-0.1.4-py3-none-any.whl.metadata (625 bytes)\n",
      "Requirement already satisfied: llama-index-core<0.11.0,>=0.10.1 in c:\\users\\ashish\\appdata\\local\\programs\\python\\python39\\lib\\site-packages (from llama-index-readers-wikipedia) (0.10.43)\n",
      "Requirement already satisfied: PyYAML>=6.0.1 in c:\\users\\ashish\\appdata\\local\\programs\\python\\python39\\lib\\site-packages (from llama-index-core<0.11.0,>=0.10.1->llama-index-readers-wikipedia) (6.0.1)\n",
      "Requirement already satisfied: SQLAlchemy>=1.4.49 in c:\\users\\ashish\\appdata\\local\\programs\\python\\python39\\lib\\site-packages (from SQLAlchemy[asyncio]>=1.4.49->llama-index-core<0.11.0,>=0.10.1->llama-index-readers-wikipedia) (2.0.28)\n",
      "Requirement already satisfied: aiohttp<4.0.0,>=3.8.6 in c:\\users\\ashish\\appdata\\local\\programs\\python\\python39\\lib\\site-packages (from llama-index-core<0.11.0,>=0.10.1->llama-index-readers-wikipedia) (3.9.3)\n",
      "Requirement already satisfied: dataclasses-json in c:\\users\\ashish\\appdata\\local\\programs\\python\\python39\\lib\\site-packages (from llama-index-core<0.11.0,>=0.10.1->llama-index-readers-wikipedia) (0.6.4)\n",
      "Requirement already satisfied: deprecated>=1.2.9.3 in c:\\users\\ashish\\appdata\\local\\programs\\python\\python39\\lib\\site-packages (from llama-index-core<0.11.0,>=0.10.1->llama-index-readers-wikipedia) (1.2.14)\n",
      "Requirement already satisfied: dirtyjson<2.0.0,>=1.0.8 in c:\\users\\ashish\\appdata\\local\\programs\\python\\python39\\lib\\site-packages (from llama-index-core<0.11.0,>=0.10.1->llama-index-readers-wikipedia) (1.0.8)\n",
      "Requirement already satisfied: fsspec>=2023.5.0 in c:\\users\\ashish\\appdata\\local\\programs\\python\\python39\\lib\\site-packages (from llama-index-core<0.11.0,>=0.10.1->llama-index-readers-wikipedia) (2023.12.2)\n",
      "Requirement already satisfied: httpx in c:\\users\\ashish\\appdata\\local\\programs\\python\\python39\\lib\\site-packages (from llama-index-core<0.11.0,>=0.10.1->llama-index-readers-wikipedia) (0.24.1)\n",
      "Requirement already satisfied: llamaindex-py-client<0.2.0,>=0.1.18 in c:\\users\\ashish\\appdata\\local\\programs\\python\\python39\\lib\\site-packages (from llama-index-core<0.11.0,>=0.10.1->llama-index-readers-wikipedia) (0.1.19)\n",
      "Requirement already satisfied: nest-asyncio<2.0.0,>=1.5.8 in c:\\users\\ashish\\appdata\\local\\programs\\python\\python39\\lib\\site-packages (from llama-index-core<0.11.0,>=0.10.1->llama-index-readers-wikipedia) (1.6.0)\n",
      "Requirement already satisfied: networkx>=3.0 in c:\\users\\ashish\\appdata\\local\\programs\\python\\python39\\lib\\site-packages (from llama-index-core<0.11.0,>=0.10.1->llama-index-readers-wikipedia) (3.1)\n",
      "Requirement already satisfied: nltk<4.0.0,>=3.8.1 in c:\\users\\ashish\\appdata\\local\\programs\\python\\python39\\lib\\site-packages (from llama-index-core<0.11.0,>=0.10.1->llama-index-readers-wikipedia) (3.8.1)\n",
      "Requirement already satisfied: numpy in c:\\users\\ashish\\appdata\\local\\programs\\python\\python39\\lib\\site-packages (from llama-index-core<0.11.0,>=0.10.1->llama-index-readers-wikipedia) (1.23.5)\n",
      "Requirement already satisfied: openai>=1.1.0 in c:\\users\\ashish\\appdata\\local\\programs\\python\\python39\\lib\\site-packages (from llama-index-core<0.11.0,>=0.10.1->llama-index-readers-wikipedia) (1.31.1)\n",
      "Requirement already satisfied: pandas in c:\\users\\ashish\\appdata\\local\\programs\\python\\python39\\lib\\site-packages (from llama-index-core<0.11.0,>=0.10.1->llama-index-readers-wikipedia) (2.2.0)\n",
      "Requirement already satisfied: pillow>=9.0.0 in c:\\users\\ashish\\appdata\\local\\programs\\python\\python39\\lib\\site-packages (from llama-index-core<0.11.0,>=0.10.1->llama-index-readers-wikipedia) (9.4.0)\n",
      "Requirement already satisfied: requests>=2.31.0 in c:\\users\\ashish\\appdata\\local\\programs\\python\\python39\\lib\\site-packages (from llama-index-core<0.11.0,>=0.10.1->llama-index-readers-wikipedia) (2.31.0)\n",
      "Requirement already satisfied: tenacity<9.0.0,>=8.2.0 in c:\\users\\ashish\\appdata\\local\\programs\\python\\python39\\lib\\site-packages (from llama-index-core<0.11.0,>=0.10.1->llama-index-readers-wikipedia) (8.2.3)\n",
      "Requirement already satisfied: tiktoken>=0.3.3 in c:\\users\\ashish\\appdata\\local\\programs\\python\\python39\\lib\\site-packages (from llama-index-core<0.11.0,>=0.10.1->llama-index-readers-wikipedia) (0.6.0)\n",
      "Requirement already satisfied: tqdm<5.0.0,>=4.66.1 in c:\\users\\ashish\\appdata\\local\\programs\\python\\python39\\lib\\site-packages (from llama-index-core<0.11.0,>=0.10.1->llama-index-readers-wikipedia) (4.66.1)\n",
      "Requirement already satisfied: typing-extensions>=4.5.0 in c:\\users\\ashish\\appdata\\local\\programs\\python\\python39\\lib\\site-packages (from llama-index-core<0.11.0,>=0.10.1->llama-index-readers-wikipedia) (4.10.0)\n",
      "Requirement already satisfied: typing-inspect>=0.8.0 in c:\\users\\ashish\\appdata\\local\\programs\\python\\python39\\lib\\site-packages (from llama-index-core<0.11.0,>=0.10.1->llama-index-readers-wikipedia) (0.9.0)\n",
      "Requirement already satisfied: wrapt in c:\\users\\ashish\\appdata\\roaming\\python\\python39\\site-packages (from llama-index-core<0.11.0,>=0.10.1->llama-index-readers-wikipedia) (1.12.1)\n",
      "Requirement already satisfied: aiosignal>=1.1.2 in c:\\users\\ashish\\appdata\\local\\programs\\python\\python39\\lib\\site-packages (from aiohttp<4.0.0,>=3.8.6->llama-index-core<0.11.0,>=0.10.1->llama-index-readers-wikipedia) (1.3.1)\n",
      "Requirement already satisfied: attrs>=17.3.0 in c:\\users\\ashish\\appdata\\local\\programs\\python\\python39\\lib\\site-packages (from aiohttp<4.0.0,>=3.8.6->llama-index-core<0.11.0,>=0.10.1->llama-index-readers-wikipedia) (23.2.0)\n",
      "Requirement already satisfied: frozenlist>=1.1.1 in c:\\users\\ashish\\appdata\\local\\programs\\python\\python39\\lib\\site-packages (from aiohttp<4.0.0,>=3.8.6->llama-index-core<0.11.0,>=0.10.1->llama-index-readers-wikipedia) (1.4.1)\n",
      "Requirement already satisfied: multidict<7.0,>=4.5 in c:\\users\\ashish\\appdata\\local\\programs\\python\\python39\\lib\\site-packages (from aiohttp<4.0.0,>=3.8.6->llama-index-core<0.11.0,>=0.10.1->llama-index-readers-wikipedia) (6.0.5)\n",
      "Requirement already satisfied: yarl<2.0,>=1.0 in c:\\users\\ashish\\appdata\\local\\programs\\python\\python39\\lib\\site-packages (from aiohttp<4.0.0,>=3.8.6->llama-index-core<0.11.0,>=0.10.1->llama-index-readers-wikipedia) (1.9.4)\n",
      "Requirement already satisfied: async-timeout<5.0,>=4.0 in c:\\users\\ashish\\appdata\\local\\programs\\python\\python39\\lib\\site-packages (from aiohttp<4.0.0,>=3.8.6->llama-index-core<0.11.0,>=0.10.1->llama-index-readers-wikipedia) (4.0.3)\n",
      "Requirement already satisfied: pydantic>=1.10 in c:\\users\\ashish\\appdata\\local\\programs\\python\\python39\\lib\\site-packages (from llamaindex-py-client<0.2.0,>=0.1.18->llama-index-core<0.11.0,>=0.10.1->llama-index-readers-wikipedia) (2.6.3)\n",
      "Requirement already satisfied: certifi in c:\\users\\ashish\\appdata\\local\\programs\\python\\python39\\lib\\site-packages (from httpx->llama-index-core<0.11.0,>=0.10.1->llama-index-readers-wikipedia) (2023.5.7)\n",
      "Requirement already satisfied: httpcore<0.18.0,>=0.15.0 in c:\\users\\ashish\\appdata\\local\\programs\\python\\python39\\lib\\site-packages (from httpx->llama-index-core<0.11.0,>=0.10.1->llama-index-readers-wikipedia) (0.17.2)\n",
      "Requirement already satisfied: idna in c:\\users\\ashish\\appdata\\local\\programs\\python\\python39\\lib\\site-packages (from httpx->llama-index-core<0.11.0,>=0.10.1->llama-index-readers-wikipedia) (3.4)\n",
      "Requirement already satisfied: sniffio in c:\\users\\ashish\\appdata\\local\\programs\\python\\python39\\lib\\site-packages (from httpx->llama-index-core<0.11.0,>=0.10.1->llama-index-readers-wikipedia) (1.3.0)\n",
      "Requirement already satisfied: click in c:\\users\\ashish\\appdata\\local\\programs\\python\\python39\\lib\\site-packages (from nltk<4.0.0,>=3.8.1->llama-index-core<0.11.0,>=0.10.1->llama-index-readers-wikipedia) (8.1.7)\n",
      "Requirement already satisfied: joblib in c:\\users\\ashish\\appdata\\local\\programs\\python\\python39\\lib\\site-packages (from nltk<4.0.0,>=3.8.1->llama-index-core<0.11.0,>=0.10.1->llama-index-readers-wikipedia) (1.3.2)\n",
      "Requirement already satisfied: regex>=2021.8.3 in c:\\users\\ashish\\appdata\\local\\programs\\python\\python39\\lib\\site-packages (from nltk<4.0.0,>=3.8.1->llama-index-core<0.11.0,>=0.10.1->llama-index-readers-wikipedia) (2023.10.3)\n",
      "Requirement already satisfied: anyio<5,>=3.5.0 in c:\\users\\ashish\\appdata\\local\\programs\\python\\python39\\lib\\site-packages (from openai>=1.1.0->llama-index-core<0.11.0,>=0.10.1->llama-index-readers-wikipedia) (3.7.0)\n",
      "Requirement already satisfied: distro<2,>=1.7.0 in c:\\users\\ashish\\appdata\\local\\programs\\python\\python39\\lib\\site-packages (from openai>=1.1.0->llama-index-core<0.11.0,>=0.10.1->llama-index-readers-wikipedia) (1.8.0)\n",
      "Requirement already satisfied: charset-normalizer<4,>=2 in c:\\users\\ashish\\appdata\\local\\programs\\python\\python39\\lib\\site-packages (from requests>=2.31.0->llama-index-core<0.11.0,>=0.10.1->llama-index-readers-wikipedia) (3.1.0)\n",
      "Requirement already satisfied: urllib3<3,>=1.21.1 in c:\\users\\ashish\\appdata\\local\\programs\\python\\python39\\lib\\site-packages (from requests>=2.31.0->llama-index-core<0.11.0,>=0.10.1->llama-index-readers-wikipedia) (1.26.16)\n",
      "Requirement already satisfied: greenlet!=0.4.17 in c:\\users\\ashish\\appdata\\local\\programs\\python\\python39\\lib\\site-packages (from SQLAlchemy>=1.4.49->SQLAlchemy[asyncio]>=1.4.49->llama-index-core<0.11.0,>=0.10.1->llama-index-readers-wikipedia) (3.0.3)\n",
      "Requirement already satisfied: colorama in c:\\users\\ashish\\appdata\\roaming\\python\\python39\\site-packages (from tqdm<5.0.0,>=4.66.1->llama-index-core<0.11.0,>=0.10.1->llama-index-readers-wikipedia) (0.4.4)\n",
      "Requirement already satisfied: mypy-extensions>=0.3.0 in c:\\users\\ashish\\appdata\\local\\programs\\python\\python39\\lib\\site-packages (from typing-inspect>=0.8.0->llama-index-core<0.11.0,>=0.10.1->llama-index-readers-wikipedia) (1.0.0)\n",
      "Requirement already satisfied: marshmallow<4.0.0,>=3.18.0 in c:\\users\\ashish\\appdata\\local\\programs\\python\\python39\\lib\\site-packages (from dataclasses-json->llama-index-core<0.11.0,>=0.10.1->llama-index-readers-wikipedia) (3.21.1)\n",
      "Requirement already satisfied: python-dateutil>=2.8.2 in c:\\users\\ashish\\appdata\\local\\programs\\python\\python39\\lib\\site-packages (from pandas->llama-index-core<0.11.0,>=0.10.1->llama-index-readers-wikipedia) (2.8.2)\n",
      "Requirement already satisfied: pytz>=2020.1 in c:\\users\\ashish\\appdata\\local\\programs\\python\\python39\\lib\\site-packages (from pandas->llama-index-core<0.11.0,>=0.10.1->llama-index-readers-wikipedia) (2024.1)\n",
      "Requirement already satisfied: tzdata>=2022.7 in c:\\users\\ashish\\appdata\\local\\programs\\python\\python39\\lib\\site-packages (from pandas->llama-index-core<0.11.0,>=0.10.1->llama-index-readers-wikipedia) (2024.1)\n",
      "Requirement already satisfied: exceptiongroup in c:\\users\\ashish\\appdata\\local\\programs\\python\\python39\\lib\\site-packages (from anyio<5,>=3.5.0->openai>=1.1.0->llama-index-core<0.11.0,>=0.10.1->llama-index-readers-wikipedia) (1.1.1)\n",
      "Requirement already satisfied: h11<0.15,>=0.13 in c:\\users\\ashish\\appdata\\local\\programs\\python\\python39\\lib\\site-packages (from httpcore<0.18.0,>=0.15.0->httpx->llama-index-core<0.11.0,>=0.10.1->llama-index-readers-wikipedia) (0.14.0)\n",
      "Requirement already satisfied: packaging>=17.0 in c:\\users\\ashish\\appdata\\local\\programs\\python\\python39\\lib\\site-packages (from marshmallow<4.0.0,>=3.18.0->dataclasses-json->llama-index-core<0.11.0,>=0.10.1->llama-index-readers-wikipedia) (23.2)\n",
      "Requirement already satisfied: annotated-types>=0.4.0 in c:\\users\\ashish\\appdata\\local\\programs\\python\\python39\\lib\\site-packages (from pydantic>=1.10->llamaindex-py-client<0.2.0,>=0.1.18->llama-index-core<0.11.0,>=0.10.1->llama-index-readers-wikipedia) (0.6.0)\n",
      "Requirement already satisfied: pydantic-core==2.16.3 in c:\\users\\ashish\\appdata\\local\\programs\\python\\python39\\lib\\site-packages (from pydantic>=1.10->llamaindex-py-client<0.2.0,>=0.1.18->llama-index-core<0.11.0,>=0.10.1->llama-index-readers-wikipedia) (2.16.3)\n",
      "Requirement already satisfied: six>=1.5 in c:\\users\\ashish\\appdata\\roaming\\python\\python39\\site-packages (from python-dateutil>=2.8.2->pandas->llama-index-core<0.11.0,>=0.10.1->llama-index-readers-wikipedia) (1.15.0)\n",
      "Downloading llama_index_readers_wikipedia-0.1.4-py3-none-any.whl (2.3 kB)\n",
      "Installing collected packages: llama-index-readers-wikipedia\n",
      "Successfully installed llama-index-readers-wikipedia-0.1.4\n",
      "Note: you may need to restart the kernel to use updated packages.\n"
     ]
    },
    {
     "name": "stderr",
     "output_type": "stream",
     "text": [
      "\n",
      "[notice] A new release of pip is available: 23.3.1 -> 24.0\n",
      "[notice] To update, run: python.exe -m pip install --upgrade pip\n"
     ]
    }
   ],
   "source": [
    "%pip install llama-index-agent-openai\n",
    "%pip install llama-index-llms-openai\n",
    "%pip install llama-index-readers-wikipedia"
   ]
  },
  {
   "cell_type": "code",
   "execution_count": 2,
   "metadata": {},
   "outputs": [
    {
     "name": "stdout",
     "output_type": "stream",
     "text": [
      "Requirement already satisfied: llama-index in c:\\users\\ashish\\miniconda3\\lib\\site-packages (0.10.43)\n",
      "Requirement already satisfied: llama-index-agent-openai<0.3.0,>=0.1.4 in c:\\users\\ashish\\miniconda3\\lib\\site-packages (from llama-index) (0.2.7)\n",
      "Requirement already satisfied: llama-index-cli<0.2.0,>=0.1.2 in c:\\users\\ashish\\miniconda3\\lib\\site-packages (from llama-index) (0.1.12)\n",
      "Requirement already satisfied: llama-index-core==0.10.43 in c:\\users\\ashish\\miniconda3\\lib\\site-packages (from llama-index) (0.10.43)\n",
      "Requirement already satisfied: llama-index-embeddings-openai<0.2.0,>=0.1.5 in c:\\users\\ashish\\miniconda3\\lib\\site-packages (from llama-index) (0.1.10)\n",
      "Requirement already satisfied: llama-index-indices-managed-llama-cloud<0.2.0,>=0.1.2 in c:\\users\\ashish\\miniconda3\\lib\\site-packages (from llama-index) (0.1.6)\n",
      "Requirement already satisfied: llama-index-legacy<0.10.0,>=0.9.48 in c:\\users\\ashish\\miniconda3\\lib\\site-packages (from llama-index) (0.9.48)\n",
      "Requirement already satisfied: llama-index-llms-openai<0.2.0,>=0.1.13 in c:\\users\\ashish\\miniconda3\\lib\\site-packages (from llama-index) (0.1.22)\n",
      "Requirement already satisfied: llama-index-multi-modal-llms-openai<0.2.0,>=0.1.3 in c:\\users\\ashish\\miniconda3\\lib\\site-packages (from llama-index) (0.1.6)\n",
      "Requirement already satisfied: llama-index-program-openai<0.2.0,>=0.1.3 in c:\\users\\ashish\\miniconda3\\lib\\site-packages (from llama-index) (0.1.6)\n",
      "Requirement already satisfied: llama-index-question-gen-openai<0.2.0,>=0.1.2 in c:\\users\\ashish\\miniconda3\\lib\\site-packages (from llama-index) (0.1.3)\n",
      "Requirement already satisfied: llama-index-readers-file<0.2.0,>=0.1.4 in c:\\users\\ashish\\miniconda3\\lib\\site-packages (from llama-index) (0.1.23)\n",
      "Requirement already satisfied: llama-index-readers-llama-parse<0.2.0,>=0.1.2 in c:\\users\\ashish\\miniconda3\\lib\\site-packages (from llama-index) (0.1.4)\n",
      "Requirement already satisfied: PyYAML>=6.0.1 in c:\\users\\ashish\\miniconda3\\lib\\site-packages (from llama-index-core==0.10.43->llama-index) (6.0.1)\n",
      "Requirement already satisfied: SQLAlchemy>=1.4.49 in c:\\users\\ashish\\miniconda3\\lib\\site-packages (from SQLAlchemy[asyncio]>=1.4.49->llama-index-core==0.10.43->llama-index) (2.0.28)\n",
      "Requirement already satisfied: aiohttp<4.0.0,>=3.8.6 in c:\\users\\ashish\\miniconda3\\lib\\site-packages (from llama-index-core==0.10.43->llama-index) (3.9.3)\n",
      "Requirement already satisfied: dataclasses-json in c:\\users\\ashish\\miniconda3\\lib\\site-packages (from llama-index-core==0.10.43->llama-index) (0.6.4)\n",
      "Requirement already satisfied: deprecated>=1.2.9.3 in c:\\users\\ashish\\miniconda3\\lib\\site-packages (from llama-index-core==0.10.43->llama-index) (1.2.14)\n",
      "Requirement already satisfied: dirtyjson<2.0.0,>=1.0.8 in c:\\users\\ashish\\miniconda3\\lib\\site-packages (from llama-index-core==0.10.43->llama-index) (1.0.8)\n",
      "Requirement already satisfied: fsspec>=2023.5.0 in c:\\users\\ashish\\miniconda3\\lib\\site-packages (from llama-index-core==0.10.43->llama-index) (2024.2.0)\n",
      "Requirement already satisfied: httpx in c:\\users\\ashish\\miniconda3\\lib\\site-packages (from llama-index-core==0.10.43->llama-index) (0.27.0)\n",
      "Requirement already satisfied: llamaindex-py-client<0.2.0,>=0.1.18 in c:\\users\\ashish\\miniconda3\\lib\\site-packages (from llama-index-core==0.10.43->llama-index) (0.1.19)\n",
      "Requirement already satisfied: nest-asyncio<2.0.0,>=1.5.8 in c:\\users\\ashish\\miniconda3\\lib\\site-packages (from llama-index-core==0.10.43->llama-index) (1.6.0)\n",
      "Requirement already satisfied: networkx>=3.0 in c:\\users\\ashish\\miniconda3\\lib\\site-packages (from llama-index-core==0.10.43->llama-index) (3.3)\n",
      "Requirement already satisfied: nltk<4.0.0,>=3.8.1 in c:\\users\\ashish\\miniconda3\\lib\\site-packages (from llama-index-core==0.10.43->llama-index) (3.8.1)\n",
      "Requirement already satisfied: numpy in c:\\users\\ashish\\miniconda3\\lib\\site-packages (from llama-index-core==0.10.43->llama-index) (1.26.4)\n",
      "Requirement already satisfied: openai>=1.1.0 in c:\\users\\ashish\\miniconda3\\lib\\site-packages (from llama-index-core==0.10.43->llama-index) (1.30.5)\n",
      "Requirement already satisfied: pandas in c:\\users\\ashish\\miniconda3\\lib\\site-packages (from llama-index-core==0.10.43->llama-index) (2.2.1)\n",
      "Requirement already satisfied: pillow>=9.0.0 in c:\\users\\ashish\\miniconda3\\lib\\site-packages (from llama-index-core==0.10.43->llama-index) (10.2.0)\n",
      "Requirement already satisfied: requests>=2.31.0 in c:\\users\\ashish\\miniconda3\\lib\\site-packages (from llama-index-core==0.10.43->llama-index) (2.31.0)\n",
      "Requirement already satisfied: tenacity<9.0.0,>=8.2.0 in c:\\users\\ashish\\miniconda3\\lib\\site-packages (from llama-index-core==0.10.43->llama-index) (8.2.3)\n",
      "Requirement already satisfied: tiktoken>=0.3.3 in c:\\users\\ashish\\miniconda3\\lib\\site-packages (from llama-index-core==0.10.43->llama-index) (0.7.0)\n",
      "Requirement already satisfied: tqdm<5.0.0,>=4.66.1 in c:\\users\\ashish\\miniconda3\\lib\\site-packages (from llama-index-core==0.10.43->llama-index) (4.66.2)\n",
      "Requirement already satisfied: typing-extensions>=4.5.0 in c:\\users\\ashish\\miniconda3\\lib\\site-packages (from llama-index-core==0.10.43->llama-index) (4.10.0)\n",
      "Requirement already satisfied: typing-inspect>=0.8.0 in c:\\users\\ashish\\miniconda3\\lib\\site-packages (from llama-index-core==0.10.43->llama-index) (0.9.0)\n",
      "Requirement already satisfied: wrapt in c:\\users\\ashish\\miniconda3\\lib\\site-packages (from llama-index-core==0.10.43->llama-index) (1.16.0)\n",
      "Requirement already satisfied: beautifulsoup4<5.0.0,>=4.12.3 in c:\\users\\ashish\\miniconda3\\lib\\site-packages (from llama-index-readers-file<0.2.0,>=0.1.4->llama-index) (4.12.3)\n",
      "Requirement already satisfied: pypdf<5.0.0,>=4.0.1 in c:\\users\\ashish\\miniconda3\\lib\\site-packages (from llama-index-readers-file<0.2.0,>=0.1.4->llama-index) (4.2.0)\n",
      "Requirement already satisfied: striprtf<0.0.27,>=0.0.26 in c:\\users\\ashish\\miniconda3\\lib\\site-packages (from llama-index-readers-file<0.2.0,>=0.1.4->llama-index) (0.0.26)\n",
      "Requirement already satisfied: llama-parse<0.5.0,>=0.4.0 in c:\\users\\ashish\\miniconda3\\lib\\site-packages (from llama-index-readers-llama-parse<0.2.0,>=0.1.2->llama-index) (0.4.4)\n",
      "Requirement already satisfied: aiosignal>=1.1.2 in c:\\users\\ashish\\miniconda3\\lib\\site-packages (from aiohttp<4.0.0,>=3.8.6->llama-index-core==0.10.43->llama-index) (1.3.1)\n",
      "Requirement already satisfied: attrs>=17.3.0 in c:\\users\\ashish\\miniconda3\\lib\\site-packages (from aiohttp<4.0.0,>=3.8.6->llama-index-core==0.10.43->llama-index) (23.2.0)\n",
      "Requirement already satisfied: frozenlist>=1.1.1 in c:\\users\\ashish\\miniconda3\\lib\\site-packages (from aiohttp<4.0.0,>=3.8.6->llama-index-core==0.10.43->llama-index) (1.4.1)\n",
      "Requirement already satisfied: multidict<7.0,>=4.5 in c:\\users\\ashish\\miniconda3\\lib\\site-packages (from aiohttp<4.0.0,>=3.8.6->llama-index-core==0.10.43->llama-index) (6.0.5)\n",
      "Requirement already satisfied: yarl<2.0,>=1.0 in c:\\users\\ashish\\miniconda3\\lib\\site-packages (from aiohttp<4.0.0,>=3.8.6->llama-index-core==0.10.43->llama-index) (1.9.4)\n",
      "Requirement already satisfied: soupsieve>1.2 in c:\\users\\ashish\\miniconda3\\lib\\site-packages (from beautifulsoup4<5.0.0,>=4.12.3->llama-index-readers-file<0.2.0,>=0.1.4->llama-index) (2.5)\n",
      "Requirement already satisfied: pydantic>=1.10 in c:\\users\\ashish\\miniconda3\\lib\\site-packages (from llamaindex-py-client<0.2.0,>=0.1.18->llama-index-core==0.10.43->llama-index) (2.6.3)\n",
      "Requirement already satisfied: anyio in c:\\users\\ashish\\miniconda3\\lib\\site-packages (from httpx->llama-index-core==0.10.43->llama-index) (4.3.0)\n",
      "Requirement already satisfied: certifi in c:\\users\\ashish\\miniconda3\\lib\\site-packages (from httpx->llama-index-core==0.10.43->llama-index) (2023.11.17)\n",
      "Requirement already satisfied: httpcore==1.* in c:\\users\\ashish\\miniconda3\\lib\\site-packages (from httpx->llama-index-core==0.10.43->llama-index) (1.0.5)\n",
      "Requirement already satisfied: idna in c:\\users\\ashish\\miniconda3\\lib\\site-packages (from httpx->llama-index-core==0.10.43->llama-index) (3.4)\n",
      "Requirement already satisfied: sniffio in c:\\users\\ashish\\miniconda3\\lib\\site-packages (from httpx->llama-index-core==0.10.43->llama-index) (1.3.1)\n",
      "Requirement already satisfied: h11<0.15,>=0.13 in c:\\users\\ashish\\miniconda3\\lib\\site-packages (from httpcore==1.*->httpx->llama-index-core==0.10.43->llama-index) (0.14.0)\n",
      "Requirement already satisfied: click in c:\\users\\ashish\\miniconda3\\lib\\site-packages (from nltk<4.0.0,>=3.8.1->llama-index-core==0.10.43->llama-index) (8.1.7)\n",
      "Requirement already satisfied: joblib in c:\\users\\ashish\\miniconda3\\lib\\site-packages (from nltk<4.0.0,>=3.8.1->llama-index-core==0.10.43->llama-index) (1.4.2)\n",
      "Requirement already satisfied: regex>=2021.8.3 in c:\\users\\ashish\\miniconda3\\lib\\site-packages (from nltk<4.0.0,>=3.8.1->llama-index-core==0.10.43->llama-index) (2024.5.15)\n",
      "Requirement already satisfied: distro<2,>=1.7.0 in c:\\users\\ashish\\miniconda3\\lib\\site-packages (from openai>=1.1.0->llama-index-core==0.10.43->llama-index) (1.8.0)\n",
      "Requirement already satisfied: charset-normalizer<4,>=2 in c:\\users\\ashish\\miniconda3\\lib\\site-packages (from requests>=2.31.0->llama-index-core==0.10.43->llama-index) (2.0.4)\n",
      "Requirement already satisfied: urllib3<3,>=1.21.1 in c:\\users\\ashish\\miniconda3\\lib\\site-packages (from requests>=2.31.0->llama-index-core==0.10.43->llama-index) (1.26.18)\n",
      "Requirement already satisfied: greenlet!=0.4.17 in c:\\users\\ashish\\miniconda3\\lib\\site-packages (from SQLAlchemy>=1.4.49->SQLAlchemy[asyncio]>=1.4.49->llama-index-core==0.10.43->llama-index) (3.0.3)\n",
      "Requirement already satisfied: colorama in c:\\users\\ashish\\miniconda3\\lib\\site-packages (from tqdm<5.0.0,>=4.66.1->llama-index-core==0.10.43->llama-index) (0.4.6)\n",
      "Requirement already satisfied: mypy-extensions>=0.3.0 in c:\\users\\ashish\\miniconda3\\lib\\site-packages (from typing-inspect>=0.8.0->llama-index-core==0.10.43->llama-index) (1.0.0)\n",
      "Requirement already satisfied: marshmallow<4.0.0,>=3.18.0 in c:\\users\\ashish\\miniconda3\\lib\\site-packages (from dataclasses-json->llama-index-core==0.10.43->llama-index) (3.21.1)\n",
      "Requirement already satisfied: python-dateutil>=2.8.2 in c:\\users\\ashish\\miniconda3\\lib\\site-packages (from pandas->llama-index-core==0.10.43->llama-index) (2.9.0.post0)\n",
      "Requirement already satisfied: pytz>=2020.1 in c:\\users\\ashish\\miniconda3\\lib\\site-packages (from pandas->llama-index-core==0.10.43->llama-index) (2024.1)\n",
      "Requirement already satisfied: tzdata>=2022.7 in c:\\users\\ashish\\miniconda3\\lib\\site-packages (from pandas->llama-index-core==0.10.43->llama-index) (2024.1)\n",
      "Requirement already satisfied: packaging>=17.0 in c:\\users\\ashish\\miniconda3\\lib\\site-packages (from marshmallow<4.0.0,>=3.18.0->dataclasses-json->llama-index-core==0.10.43->llama-index) (23.2)\n",
      "Requirement already satisfied: annotated-types>=0.4.0 in c:\\users\\ashish\\miniconda3\\lib\\site-packages (from pydantic>=1.10->llamaindex-py-client<0.2.0,>=0.1.18->llama-index-core==0.10.43->llama-index) (0.6.0)\n",
      "Requirement already satisfied: pydantic-core==2.16.3 in c:\\users\\ashish\\miniconda3\\lib\\site-packages (from pydantic>=1.10->llamaindex-py-client<0.2.0,>=0.1.18->llama-index-core==0.10.43->llama-index) (2.16.3)\n",
      "Requirement already satisfied: six>=1.5 in c:\\users\\ashish\\miniconda3\\lib\\site-packages (from python-dateutil>=2.8.2->pandas->llama-index-core==0.10.43->llama-index) (1.16.0)\n"
     ]
    }
   ],
   "source": [
    "!pip install llama-index"
   ]
  },
  {
   "cell_type": "code",
   "execution_count": 3,
   "metadata": {},
   "outputs": [],
   "source": [
    "import openai\n",
    "\n",
    "openai.api_key = \"sk-Your key\""
   ]
  },
  {
   "cell_type": "code",
   "execution_count": 4,
   "metadata": {},
   "outputs": [],
   "source": [
    "from IPython.display import Markdown, display\n",
    "import pandas as pd"
   ]
  },
  {
   "cell_type": "code",
   "execution_count": 5,
   "metadata": {},
   "outputs": [],
   "source": [
    "\n",
    "df=pd.read_csv(\"./worldcities.csv\")  ## add you respective file"
   ]
  },
  {
   "cell_type": "code",
   "execution_count": 6,
   "metadata": {},
   "outputs": [
    {
     "data": {
      "text/html": [
       "<div>\n",
       "<style scoped>\n",
       "    .dataframe tbody tr th:only-of-type {\n",
       "        vertical-align: middle;\n",
       "    }\n",
       "\n",
       "    .dataframe tbody tr th {\n",
       "        vertical-align: top;\n",
       "    }\n",
       "\n",
       "    .dataframe thead th {\n",
       "        text-align: right;\n",
       "    }\n",
       "</style>\n",
       "<table border=\"1\" class=\"dataframe\">\n",
       "  <thead>\n",
       "    <tr style=\"text-align: right;\">\n",
       "      <th></th>\n",
       "      <th>city</th>\n",
       "      <th>city_ascii</th>\n",
       "      <th>lat</th>\n",
       "      <th>lng</th>\n",
       "      <th>country</th>\n",
       "      <th>iso2</th>\n",
       "      <th>iso3</th>\n",
       "      <th>admin_name</th>\n",
       "      <th>capital</th>\n",
       "      <th>population</th>\n",
       "      <th>id</th>\n",
       "    </tr>\n",
       "  </thead>\n",
       "  <tbody>\n",
       "    <tr>\n",
       "      <th>0</th>\n",
       "      <td>Tokyo</td>\n",
       "      <td>Tokyo</td>\n",
       "      <td>35.6897</td>\n",
       "      <td>139.6922</td>\n",
       "      <td>Japan</td>\n",
       "      <td>JP</td>\n",
       "      <td>JPN</td>\n",
       "      <td>Tōkyō</td>\n",
       "      <td>primary</td>\n",
       "      <td>37732000.0</td>\n",
       "      <td>1392685764</td>\n",
       "    </tr>\n",
       "    <tr>\n",
       "      <th>1</th>\n",
       "      <td>Jakarta</td>\n",
       "      <td>Jakarta</td>\n",
       "      <td>-6.1750</td>\n",
       "      <td>106.8275</td>\n",
       "      <td>Indonesia</td>\n",
       "      <td>ID</td>\n",
       "      <td>IDN</td>\n",
       "      <td>Jakarta</td>\n",
       "      <td>primary</td>\n",
       "      <td>33756000.0</td>\n",
       "      <td>1360771077</td>\n",
       "    </tr>\n",
       "    <tr>\n",
       "      <th>2</th>\n",
       "      <td>Delhi</td>\n",
       "      <td>Delhi</td>\n",
       "      <td>28.6100</td>\n",
       "      <td>77.2300</td>\n",
       "      <td>India</td>\n",
       "      <td>IN</td>\n",
       "      <td>IND</td>\n",
       "      <td>Delhi</td>\n",
       "      <td>admin</td>\n",
       "      <td>32226000.0</td>\n",
       "      <td>1356872604</td>\n",
       "    </tr>\n",
       "    <tr>\n",
       "      <th>3</th>\n",
       "      <td>Guangzhou</td>\n",
       "      <td>Guangzhou</td>\n",
       "      <td>23.1300</td>\n",
       "      <td>113.2600</td>\n",
       "      <td>China</td>\n",
       "      <td>CN</td>\n",
       "      <td>CHN</td>\n",
       "      <td>Guangdong</td>\n",
       "      <td>admin</td>\n",
       "      <td>26940000.0</td>\n",
       "      <td>1156237133</td>\n",
       "    </tr>\n",
       "    <tr>\n",
       "      <th>4</th>\n",
       "      <td>Mumbai</td>\n",
       "      <td>Mumbai</td>\n",
       "      <td>19.0761</td>\n",
       "      <td>72.8775</td>\n",
       "      <td>India</td>\n",
       "      <td>IN</td>\n",
       "      <td>IND</td>\n",
       "      <td>Mahārāshtra</td>\n",
       "      <td>admin</td>\n",
       "      <td>24973000.0</td>\n",
       "      <td>1356226629</td>\n",
       "    </tr>\n",
       "  </tbody>\n",
       "</table>\n",
       "</div>"
      ],
      "text/plain": [
       "        city city_ascii      lat       lng    country iso2 iso3   admin_name  \\\n",
       "0      Tokyo      Tokyo  35.6897  139.6922      Japan   JP  JPN        Tōkyō   \n",
       "1    Jakarta    Jakarta  -6.1750  106.8275  Indonesia   ID  IDN      Jakarta   \n",
       "2      Delhi      Delhi  28.6100   77.2300      India   IN  IND        Delhi   \n",
       "3  Guangzhou  Guangzhou  23.1300  113.2600      China   CN  CHN    Guangdong   \n",
       "4     Mumbai     Mumbai  19.0761   72.8775      India   IN  IND  Mahārāshtra   \n",
       "\n",
       "   capital  population          id  \n",
       "0  primary  37732000.0  1392685764  \n",
       "1  primary  33756000.0  1360771077  \n",
       "2    admin  32226000.0  1356872604  \n",
       "3    admin  26940000.0  1156237133  \n",
       "4    admin  24973000.0  1356226629  "
      ]
     },
     "execution_count": 6,
     "metadata": {},
     "output_type": "execute_result"
    }
   ],
   "source": [
    "df.head()"
   ]
  },
  {
   "cell_type": "code",
   "execution_count": 7,
   "metadata": {},
   "outputs": [],
   "source": [
    "from sqlalchemy import (\n",
    "    create_engine,\n",
    "    MetaData,\n",
    "    Table,\n",
    "    Column,\n",
    "    String,\n",
    "    Integer,\n",
    "    select,\n",
    "    Float,\n",
    ")"
   ]
  },
  {
   "cell_type": "code",
   "execution_count": 10,
   "metadata": {},
   "outputs": [
    {
     "name": "stdout",
     "output_type": "stream",
     "text": [
      "2024-06-07 11:53:59,432 INFO sqlalchemy.engine.Engine BEGIN (implicit)\n",
      "2024-06-07 11:53:59,437 INFO sqlalchemy.engine.Engine PRAGMA main.table_info(\"Cities\")\n",
      "2024-06-07 11:53:59,438 INFO sqlalchemy.engine.Engine [raw sql] ()\n",
      "2024-06-07 11:53:59,439 INFO sqlalchemy.engine.Engine PRAGMA temp.table_info(\"Cities\")\n",
      "2024-06-07 11:53:59,439 INFO sqlalchemy.engine.Engine [raw sql] ()\n",
      "2024-06-07 11:53:59,441 INFO sqlalchemy.engine.Engine \n",
      "CREATE TABLE \"Cities\" (\n",
      "\tcity VARCHAR, \n",
      "\tcity_ascii VARCHAR, \n",
      "\tlat FLOAT, \n",
      "\tlng FLOAT, \n",
      "\tcountry VARCHAR, \n",
      "\tiso2 VARCHAR, \n",
      "\tiso3 VARCHAR, \n",
      "\tadmin_name VARCHAR, \n",
      "\tcapital VARCHAR, \n",
      "\tpopulation INTEGER, \n",
      "\tid INTEGER\n",
      ")\n",
      "\n",
      "\n",
      "2024-06-07 11:53:59,442 INFO sqlalchemy.engine.Engine [no key 0.00114s] ()\n",
      "2024-06-07 11:53:59,815 INFO sqlalchemy.engine.Engine INSERT INTO \"Cities\" (city, city_ascii, lat, lng, country, iso2, iso3, admin_name, capital, population, id) VALUES (?, ?, ?, ?, ?, ?, ?, ?, ?, ?, ?)\n",
      "2024-06-07 11:53:59,815 INFO sqlalchemy.engine.Engine [generated in 0.27145s] [('Tokyo', 'Tokyo', 35.6897, 139.6922, 'Japan', 'JP', 'JPN', 'Tōkyō', 'primary', 37732000.0, 1392685764), ('Jakarta', 'Jakarta', -6.175, 106.8275, 'Indonesia', 'ID', 'IDN', 'Jakarta', 'primary', 33756000.0, 1360771077), ('Delhi', 'Delhi', 28.61, 77.23, 'India', 'IN', 'IND', 'Delhi', 'admin', 32226000.0, 1356872604), ('Guangzhou', 'Guangzhou', 23.13, 113.26, 'China', 'CN', 'CHN', 'Guangdong', 'admin', 26940000.0, 1156237133), ('Mumbai', 'Mumbai', 19.0761, 72.8775, 'India', 'IN', 'IND', 'Mahārāshtra', 'admin', 24973000.0, 1356226629), ('Manila', 'Manila', 14.5958, 120.9772, 'Philippines', 'PH', 'PHL', 'Manila', 'primary', 24922000.0, 1608618140), ('Shanghai', 'Shanghai', 31.2286, 121.4747, 'China', 'CN', 'CHN', 'Shanghai', 'admin', 24073000.0, 1156073548), ('São Paulo', 'Sao Paulo', -23.55, -46.6333, 'Brazil', 'BR', 'BRA', 'São Paulo', 'admin', 23086000.0, 1076532519)  ... displaying 10 of 47868 total bound parameter sets ...  ('Hongseong', 'Hongseong', 36.6009, 126.665, 'Korea, South', 'KR', 'KOR', 'Chungnam', 'admin', None, 1410822139), ('Charlotte Amalie', 'Charlotte Amalie', 18.342, -64.9331, 'U.S. Virgin Islands', 'VI', 'VIR', 'Virgin Islands', 'primary', None, 1850037473)]\n",
      "2024-06-07 11:53:59,945 INFO sqlalchemy.engine.Engine SELECT name FROM sqlite_master WHERE type='table' AND name NOT LIKE 'sqlite~_%' ESCAPE '~' ORDER BY name\n",
      "2024-06-07 11:53:59,945 INFO sqlalchemy.engine.Engine [raw sql] ()\n",
      "2024-06-07 11:53:59,951 INFO sqlalchemy.engine.Engine COMMIT\n",
      "Data written to SQLite database successfully.\n",
      "<class 'pandas.core.frame.DataFrame'>\n"
     ]
    }
   ],
   "source": [
    "engine = create_engine('sqlite:///:memory:', echo=True)\n",
    "\n",
    "column_types = {\n",
    "    \"city\" : String,\n",
    "    \"city_ascii\": String,\n",
    "    \"lat\" : Float,\n",
    "    \"lng\" : Float,\n",
    "    \"country\" : String,\n",
    "    \"iso2\" : String,\n",
    "    \"iso3\" : String,\n",
    "    \"admin_name\" : String,\n",
    "    \"capital\" : String,\n",
    "    \"population\" : Integer,\n",
    "    \"id\" : Integer\n",
    "}\n",
    "\n",
    "df.to_sql('Cities', con=engine, if_exists='replace', index=False, dtype=column_types)\n",
    "\n",
    "# Confirming that the data has been written successfully\n",
    "print(\"Data written to SQLite database successfully.\")\n",
    "print(type(df))"
   ]
  },
  {
   "cell_type": "code",
   "execution_count": 11,
   "metadata": {},
   "outputs": [],
   "source": [
    "from llama_index.core import SQLDatabase"
   ]
  },
  {
   "cell_type": "code",
   "execution_count": 12,
   "metadata": {},
   "outputs": [
    {
     "name": "stdout",
     "output_type": "stream",
     "text": [
      "2024-06-07 11:54:57,191 INFO sqlalchemy.engine.Engine BEGIN (implicit)\n",
      "2024-06-07 11:54:57,193 INFO sqlalchemy.engine.Engine SELECT name FROM sqlite_master WHERE type='table' AND name NOT LIKE 'sqlite~_%' ESCAPE '~' ORDER BY name\n",
      "2024-06-07 11:54:57,193 INFO sqlalchemy.engine.Engine [raw sql] ()\n",
      "2024-06-07 11:54:57,195 INFO sqlalchemy.engine.Engine ROLLBACK\n",
      "2024-06-07 11:54:57,195 INFO sqlalchemy.engine.Engine BEGIN (implicit)\n",
      "2024-06-07 11:54:57,196 INFO sqlalchemy.engine.Engine SELECT name FROM sqlite_master WHERE type='table' AND name NOT LIKE 'sqlite~_%' ESCAPE '~' ORDER BY name\n",
      "2024-06-07 11:54:57,197 INFO sqlalchemy.engine.Engine [raw sql] ()\n",
      "2024-06-07 11:54:57,199 INFO sqlalchemy.engine.Engine SELECT name FROM sqlite_temp_master WHERE type='table' AND name NOT LIKE 'sqlite~_%' ESCAPE '~' ORDER BY name\n",
      "2024-06-07 11:54:57,200 INFO sqlalchemy.engine.Engine [raw sql] ()\n",
      "2024-06-07 11:54:57,201 INFO sqlalchemy.engine.Engine PRAGMA main.table_xinfo(\"Cities\")\n",
      "2024-06-07 11:54:57,203 INFO sqlalchemy.engine.Engine [raw sql] ()\n",
      "2024-06-07 11:54:57,205 INFO sqlalchemy.engine.Engine SELECT sql FROM  (SELECT * FROM sqlite_master UNION ALL   SELECT * FROM sqlite_temp_master) WHERE name = ? AND type in ('table', 'view')\n",
      "2024-06-07 11:54:57,206 INFO sqlalchemy.engine.Engine [raw sql] ('Cities',)\n",
      "2024-06-07 11:54:57,208 INFO sqlalchemy.engine.Engine PRAGMA main.foreign_key_list(\"Cities\")\n",
      "2024-06-07 11:54:57,208 INFO sqlalchemy.engine.Engine [raw sql] ()\n",
      "2024-06-07 11:54:57,208 INFO sqlalchemy.engine.Engine PRAGMA temp.foreign_key_list(\"Cities\")\n",
      "2024-06-07 11:54:57,211 INFO sqlalchemy.engine.Engine [raw sql] ()\n",
      "2024-06-07 11:54:57,212 INFO sqlalchemy.engine.Engine SELECT sql FROM  (SELECT * FROM sqlite_master UNION ALL   SELECT * FROM sqlite_temp_master) WHERE name = ? AND type in ('table', 'view')\n",
      "2024-06-07 11:54:57,213 INFO sqlalchemy.engine.Engine [raw sql] ('Cities',)\n",
      "2024-06-07 11:54:57,215 INFO sqlalchemy.engine.Engine PRAGMA main.index_list(\"Cities\")\n",
      "2024-06-07 11:54:57,216 INFO sqlalchemy.engine.Engine [raw sql] ()\n",
      "2024-06-07 11:54:57,216 INFO sqlalchemy.engine.Engine PRAGMA temp.index_list(\"Cities\")\n",
      "2024-06-07 11:54:57,217 INFO sqlalchemy.engine.Engine [raw sql] ()\n",
      "2024-06-07 11:54:57,219 INFO sqlalchemy.engine.Engine PRAGMA main.table_info(\"Cities\")\n",
      "2024-06-07 11:54:57,219 INFO sqlalchemy.engine.Engine [raw sql] ()\n",
      "2024-06-07 11:54:57,221 INFO sqlalchemy.engine.Engine PRAGMA main.index_list(\"Cities\")\n",
      "2024-06-07 11:54:57,222 INFO sqlalchemy.engine.Engine [raw sql] ()\n",
      "2024-06-07 11:54:57,222 INFO sqlalchemy.engine.Engine PRAGMA temp.index_list(\"Cities\")\n",
      "2024-06-07 11:54:57,223 INFO sqlalchemy.engine.Engine [raw sql] ()\n",
      "2024-06-07 11:54:57,224 INFO sqlalchemy.engine.Engine PRAGMA main.table_info(\"Cities\")\n",
      "2024-06-07 11:54:57,225 INFO sqlalchemy.engine.Engine [raw sql] ()\n",
      "2024-06-07 11:54:57,226 INFO sqlalchemy.engine.Engine SELECT sql FROM  (SELECT * FROM sqlite_master UNION ALL   SELECT * FROM sqlite_temp_master) WHERE name = ? AND type in ('table', 'view')\n",
      "2024-06-07 11:54:57,228 INFO sqlalchemy.engine.Engine [raw sql] ('Cities',)\n",
      "2024-06-07 11:54:57,231 INFO sqlalchemy.engine.Engine ROLLBACK\n"
     ]
    }
   ],
   "source": [
    "sql_database = SQLDatabase(engine, include_tables=[\"Cities\"])"
   ]
  },
  {
   "cell_type": "code",
   "execution_count": 13,
   "metadata": {},
   "outputs": [],
   "source": [
    "from llama_index.llms.openai import OpenAI\n",
    "llm = OpenAI(temperature=0.1, model=\"gpt-3.5-turbo\")"
   ]
  },
  {
   "cell_type": "code",
   "execution_count": 14,
   "metadata": {},
   "outputs": [
    {
     "name": "stdout",
     "output_type": "stream",
     "text": [
      "2024-06-07 11:56:26,830 INFO sqlalchemy.engine.Engine BEGIN (implicit)\n",
      "2024-06-07 11:56:26,830 INFO sqlalchemy.engine.Engine SELECT name FROM sqlite_master WHERE type='table' AND name NOT LIKE 'sqlite~_%' ESCAPE '~' ORDER BY name\n",
      "2024-06-07 11:56:26,830 INFO sqlalchemy.engine.Engine [raw sql] ()\n",
      "2024-06-07 11:56:26,830 INFO sqlalchemy.engine.Engine SELECT name FROM sqlite_temp_master WHERE type='table' AND name NOT LIKE 'sqlite~_%' ESCAPE '~' ORDER BY name\n",
      "2024-06-07 11:56:26,830 INFO sqlalchemy.engine.Engine [raw sql] ()\n",
      "2024-06-07 11:56:26,837 INFO sqlalchemy.engine.Engine PRAGMA main.table_xinfo(\"Cities\")\n",
      "2024-06-07 11:56:26,838 INFO sqlalchemy.engine.Engine [raw sql] ()\n",
      "2024-06-07 11:56:26,840 INFO sqlalchemy.engine.Engine SELECT sql FROM  (SELECT * FROM sqlite_master UNION ALL   SELECT * FROM sqlite_temp_master) WHERE name = ? AND type in ('table', 'view')\n",
      "2024-06-07 11:56:26,841 INFO sqlalchemy.engine.Engine [raw sql] ('Cities',)\n",
      "2024-06-07 11:56:26,842 INFO sqlalchemy.engine.Engine PRAGMA main.foreign_key_list(\"Cities\")\n",
      "2024-06-07 11:56:26,843 INFO sqlalchemy.engine.Engine [raw sql] ()\n",
      "2024-06-07 11:56:26,844 INFO sqlalchemy.engine.Engine PRAGMA temp.foreign_key_list(\"Cities\")\n",
      "2024-06-07 11:56:26,844 INFO sqlalchemy.engine.Engine [raw sql] ()\n",
      "2024-06-07 11:56:26,845 INFO sqlalchemy.engine.Engine SELECT sql FROM  (SELECT * FROM sqlite_master UNION ALL   SELECT * FROM sqlite_temp_master) WHERE name = ? AND type in ('table', 'view')\n",
      "2024-06-07 11:56:26,846 INFO sqlalchemy.engine.Engine [raw sql] ('Cities',)\n",
      "2024-06-07 11:56:26,846 INFO sqlalchemy.engine.Engine PRAGMA main.index_list(\"Cities\")\n",
      "2024-06-07 11:56:26,846 INFO sqlalchemy.engine.Engine [raw sql] ()\n",
      "2024-06-07 11:56:26,846 INFO sqlalchemy.engine.Engine PRAGMA temp.index_list(\"Cities\")\n",
      "2024-06-07 11:56:26,846 INFO sqlalchemy.engine.Engine [raw sql] ()\n",
      "2024-06-07 11:56:26,846 INFO sqlalchemy.engine.Engine PRAGMA main.table_info(\"Cities\")\n",
      "2024-06-07 11:56:26,846 INFO sqlalchemy.engine.Engine [raw sql] ()\n",
      "2024-06-07 11:56:26,846 INFO sqlalchemy.engine.Engine PRAGMA main.index_list(\"Cities\")\n",
      "2024-06-07 11:56:26,853 INFO sqlalchemy.engine.Engine [raw sql] ()\n",
      "2024-06-07 11:56:26,854 INFO sqlalchemy.engine.Engine PRAGMA temp.index_list(\"Cities\")\n",
      "2024-06-07 11:56:26,855 INFO sqlalchemy.engine.Engine [raw sql] ()\n",
      "2024-06-07 11:56:26,855 INFO sqlalchemy.engine.Engine PRAGMA main.table_info(\"Cities\")\n",
      "2024-06-07 11:56:26,855 INFO sqlalchemy.engine.Engine [raw sql] ()\n",
      "2024-06-07 11:56:26,855 INFO sqlalchemy.engine.Engine SELECT sql FROM  (SELECT * FROM sqlite_master UNION ALL   SELECT * FROM sqlite_temp_master) WHERE name = ? AND type in ('table', 'view')\n",
      "2024-06-07 11:56:26,855 INFO sqlalchemy.engine.Engine [raw sql] ('Cities',)\n",
      "2024-06-07 11:56:26,855 INFO sqlalchemy.engine.Engine ROLLBACK\n",
      "<class 'sqlalchemy.sql.schema.Table'>\n",
      "2024-06-07 11:56:26,862 INFO sqlalchemy.engine.Engine BEGIN (implicit)\n",
      "2024-06-07 11:56:26,862 INFO sqlalchemy.engine.Engine SELECT * \n",
      "FROM \"Cities\"\n",
      " LIMIT ? OFFSET ?\n",
      "2024-06-07 11:56:26,862 INFO sqlalchemy.engine.Engine [generated in 0.00216s] (10, 0)\n",
      "('Tokyo', 'Tokyo', 35.6897, 139.6922, 'Japan', 'JP', 'JPN', 'Tōkyō', 'primary', 37732000, 1392685764)\n",
      "('Jakarta', 'Jakarta', -6.175, 106.8275, 'Indonesia', 'ID', 'IDN', 'Jakarta', 'primary', 33756000, 1360771077)\n",
      "('Delhi', 'Delhi', 28.61, 77.23, 'India', 'IN', 'IND', 'Delhi', 'admin', 32226000, 1356872604)\n",
      "('Guangzhou', 'Guangzhou', 23.13, 113.26, 'China', 'CN', 'CHN', 'Guangdong', 'admin', 26940000, 1156237133)\n",
      "('Mumbai', 'Mumbai', 19.0761, 72.8775, 'India', 'IN', 'IND', 'Mahārāshtra', 'admin', 24973000, 1356226629)\n",
      "('Manila', 'Manila', 14.5958, 120.9772, 'Philippines', 'PH', 'PHL', 'Manila', 'primary', 24922000, 1608618140)\n",
      "('Shanghai', 'Shanghai', 31.2286, 121.4747, 'China', 'CN', 'CHN', 'Shanghai', 'admin', 24073000, 1156073548)\n",
      "('São Paulo', 'Sao Paulo', -23.55, -46.6333, 'Brazil', 'BR', 'BRA', 'São Paulo', 'admin', 23086000, 1076532519)\n",
      "('Seoul', 'Seoul', 37.56, 126.99, 'Korea, South', 'KR', 'KOR', 'Seoul', 'primary', 23016000, 1410836482)\n",
      "('Mexico City', 'Mexico City', 19.4333, -99.1333, 'Mexico', 'MX', 'MEX', 'Ciudad de México', 'primary', 21804000, 1484247881)\n"
     ]
    }
   ],
   "source": [
    "metadata = MetaData()\n",
    "metadata.reflect(bind=engine)\n",
    "cities_table = Table('Cities', metadata, autoload=True, autoload_with=engine)\n",
    "print(type(cities_table))\n",
    "\n",
    "# Create a SQLAlchemy connection\n",
    "connection = engine.connect()\n",
    "\n",
    "# Sample SQL query\n",
    "query = select('*').select_from(cities_table).limit(10)\n",
    "\n",
    "\n",
    "# Execute the query\n",
    "result = connection.execute(query)\n",
    "\n",
    "# Fetch and print the results\n",
    "for row in result:\n",
    "    print(row)"
   ]
  },
  {
   "cell_type": "code",
   "execution_count": 16,
   "metadata": {},
   "outputs": [
    {
     "name": "stdout",
     "output_type": "stream",
     "text": [
      "2024-06-07 12:01:21,313 INFO sqlalchemy.engine.Engine BEGIN (implicit)\n",
      "2024-06-07 12:01:21,314 INFO sqlalchemy.engine.Engine SELECT city,population from cities Where population >= 3500000 AND capital == 'primary' Order by population Desc limit 10\n",
      "2024-06-07 12:01:21,315 INFO sqlalchemy.engine.Engine [generated in 0.00188s] ()\n",
      "('Tokyo', 37732000)\n",
      "('Jakarta', 33756000)\n",
      "('Manila', 24922000)\n",
      "('Seoul', 23016000)\n",
      "('Mexico City', 21804000)\n",
      "('Cairo', 20296000)\n",
      "('Dhaka', 18627000)\n",
      "('Beijing', 18522000)\n",
      "('Bangkok', 18007000)\n",
      "('Moscow', 17332000)\n",
      "2024-06-07 12:01:21,321 INFO sqlalchemy.engine.Engine ROLLBACK\n"
     ]
    }
   ],
   "source": [
    "from sqlalchemy import text\n",
    "\n",
    "with engine.connect() as con:\n",
    "    rows = con.execute(text(\"SELECT city,population from cities Where population >= 3500000 AND capital == 'primary' Order by population Desc limit 10\"))\n",
    "    for row in rows:\n",
    "        print(row)"
   ]
  },
  {
   "cell_type": "code",
   "execution_count": 17,
   "metadata": {},
   "outputs": [
    {
     "name": "stdout",
     "output_type": "stream",
     "text": [
      "2024-06-07 12:04:17,859 INFO sqlalchemy.engine.Engine BEGIN (implicit)\n",
      "2024-06-07 12:04:17,860 INFO sqlalchemy.engine.Engine SELECT DISTINCT city FROM cities;\n",
      "2024-06-07 12:04:17,861 INFO sqlalchemy.engine.Engine [generated in 0.00207s] ()\n",
      "2024-06-07 12:04:17,978 INFO sqlalchemy.engine.Engine ROLLBACK\n"
     ]
    }
   ],
   "source": [
    "from sqlalchemy import text\n",
    "total_cities=[]\n",
    "with engine.connect() as con:\n",
    "    rows = con.execute(text(\"SELECT DISTINCT city FROM cities;\"))\n",
    "    for row in rows:\n",
    "        total_cities.append(row)"
   ]
  },
  {
   "cell_type": "code",
   "execution_count": 19,
   "metadata": {},
   "outputs": [
    {
     "name": "stdout",
     "output_type": "stream",
     "text": [
      "2024-06-07 12:16:32,222 INFO sqlalchemy.engine.Engine BEGIN (implicit)\n",
      "2024-06-07 12:16:32,224 INFO sqlalchemy.engine.Engine SELECT DISTINCT capital FROM cities;\n",
      "2024-06-07 12:16:32,224 INFO sqlalchemy.engine.Engine [generated in 0.00218s] ()\n",
      "('primary',)\n",
      "('admin',)\n",
      "(None,)\n",
      "('minor',)\n",
      "2024-06-07 12:16:32,233 INFO sqlalchemy.engine.Engine ROLLBACK\n"
     ]
    }
   ],
   "source": [
    "from sqlalchemy import text\n",
    "total_cities=[]\n",
    "with engine.connect() as con:\n",
    "    rows = con.execute(text(\"SELECT DISTINCT capital FROM cities;\"))\n",
    "    for row in rows:\n",
    "        print(row)"
   ]
  },
  {
   "cell_type": "code",
   "execution_count": 18,
   "metadata": {},
   "outputs": [
    {
     "name": "stdout",
     "output_type": "stream",
     "text": [
      "('Tokyo',)\n"
     ]
    }
   ],
   "source": [
    "print(total_cities[0])"
   ]
  },
  {
   "cell_type": "code",
   "execution_count": 21,
   "metadata": {},
   "outputs": [
    {
     "name": "stdout",
     "output_type": "stream",
     "text": [
      "2024-06-07 12:24:39,294 INFO sqlalchemy.engine.Engine BEGIN (implicit)\n",
      "2024-06-07 12:24:39,295 INFO sqlalchemy.engine.Engine PRAGMA main.table_xinfo(\"Cities\")\n",
      "2024-06-07 12:24:39,297 INFO sqlalchemy.engine.Engine [raw sql] ()\n",
      "2024-06-07 12:24:39,297 INFO sqlalchemy.engine.Engine ROLLBACK\n",
      "2024-06-07 12:24:39,297 INFO sqlalchemy.engine.Engine BEGIN (implicit)\n",
      "2024-06-07 12:24:39,301 INFO sqlalchemy.engine.Engine PRAGMA main.foreign_key_list(\"Cities\")\n",
      "2024-06-07 12:24:39,301 INFO sqlalchemy.engine.Engine [raw sql] ()\n",
      "2024-06-07 12:24:39,303 INFO sqlalchemy.engine.Engine PRAGMA temp.foreign_key_list(\"Cities\")\n",
      "2024-06-07 12:24:39,304 INFO sqlalchemy.engine.Engine [raw sql] ()\n",
      "2024-06-07 12:24:39,305 INFO sqlalchemy.engine.Engine SELECT sql FROM  (SELECT * FROM sqlite_master UNION ALL   SELECT * FROM sqlite_temp_master) WHERE name = ? AND type in ('table', 'view')\n",
      "2024-06-07 12:24:39,306 INFO sqlalchemy.engine.Engine [raw sql] ('Cities',)\n",
      "2024-06-07 12:24:39,307 INFO sqlalchemy.engine.Engine ROLLBACK\n",
      "2024-06-07 12:24:40,961 INFO sqlalchemy.engine.Engine BEGIN (implicit)\n",
      "2024-06-07 12:24:40,961 INFO sqlalchemy.engine.Engine SELECT city, population\n",
      "FROM Cities\n",
      "ORDER BY population DESC\n",
      "LIMIT 1;\n",
      "2024-06-07 12:24:40,961 INFO sqlalchemy.engine.Engine [generated in 0.00091s] ()\n",
      "2024-06-07 12:24:40,969 INFO sqlalchemy.engine.Engine COMMIT\n"
     ]
    }
   ],
   "source": [
    "from llama_index.core.query_engine import NLSQLTableQueryEngine\n",
    "\n",
    "city__text = (\n",
    "    \"\"\"\n",
    "    You are travel agent which has all the data for all cities around the world\n",
    "    **Table Schema**\n",
    "    - city : The name of the city/town as a Unicode string (e.g. Goiânia).\n",
    "    - city_ascii : city as an ASCII string (e.g. Goiania). Left blank if ASCII representation is not possible\n",
    "    - lat : The latitude of the city/town.\n",
    "    - lng : The longitude of the city/town.\n",
    "    - country : The name of the city/town's country.\n",
    "    - iso2 : The alpha-2 iso code of the country.\n",
    "    - iso3 : The alpha-3 iso code of the country.\n",
    "    - admin_name : The name of the highest level administration region of the city town (e.g. a US state or Canadian province). Based on the GENC profile of the ISO 3166-2 standard. Possibly blank.\n",
    "    - capital : Blank string if not a capital, otherwise:\n",
    "                primary - country's capital (e.g. Washington D.C.)\n",
    "                admin - first-level admin capital (e.g. Little Rock, AR)\n",
    "                minor - lower-level admin capital (e.g. Fayetteville, AR)\n",
    "    - population : An estimate of the city's urban population. Only available for some (prominent) cities. If the urban population is not available, the municipal population is used.\n",
    "    - id : A 10-digit unique id generated by SimpleMaps.\n",
    "    \"\"\"\n",
    ")\n",
    "query_engine = NLSQLTableQueryEngine(\n",
    "    sql_database=sql_database, tables=[\"Cities\"], llm=llm,context_str_prefix=city__text,verbose=True\n",
    ")\n",
    "query_str = \"Which city has the highest population?\"\n",
    "response = query_engine.query(query_str)"
   ]
  },
  {
   "cell_type": "code",
   "execution_count": 22,
   "metadata": {},
   "outputs": [
    {
     "name": "stdout",
     "output_type": "stream",
     "text": [
      "Tokyo has the highest population with 37,732,000 residents.\n"
     ]
    }
   ],
   "source": [
    "print(response)"
   ]
  },
  {
   "cell_type": "code",
   "execution_count": 30,
   "metadata": {},
   "outputs": [
    {
     "name": "stdout",
     "output_type": "stream",
     "text": [
      "Collecting wikipedia\n",
      "  Using cached wikipedia-1.4.0.tar.gz (27 kB)\n",
      "  Installing build dependencies: started\n",
      "  Installing build dependencies: finished with status 'done'\n",
      "  Getting requirements to build wheel: started\n",
      "  Getting requirements to build wheel: finished with status 'done'\n",
      "  Preparing metadata (pyproject.toml): started\n",
      "  Preparing metadata (pyproject.toml): finished with status 'done'\n",
      "Requirement already satisfied: beautifulsoup4 in c:\\users\\ashish\\appdata\\local\\programs\\python\\python39\\lib\\site-packages (from wikipedia) (4.12.3)\n",
      "Requirement already satisfied: requests<3.0.0,>=2.0.0 in c:\\users\\ashish\\appdata\\local\\programs\\python\\python39\\lib\\site-packages (from wikipedia) (2.31.0)\n",
      "Requirement already satisfied: charset-normalizer<4,>=2 in c:\\users\\ashish\\appdata\\local\\programs\\python\\python39\\lib\\site-packages (from requests<3.0.0,>=2.0.0->wikipedia) (3.1.0)\n",
      "Requirement already satisfied: idna<4,>=2.5 in c:\\users\\ashish\\appdata\\local\\programs\\python\\python39\\lib\\site-packages (from requests<3.0.0,>=2.0.0->wikipedia) (3.4)\n",
      "Requirement already satisfied: urllib3<3,>=1.21.1 in c:\\users\\ashish\\appdata\\local\\programs\\python\\python39\\lib\\site-packages (from requests<3.0.0,>=2.0.0->wikipedia) (1.26.16)\n",
      "Requirement already satisfied: certifi>=2017.4.17 in c:\\users\\ashish\\appdata\\local\\programs\\python\\python39\\lib\\site-packages (from requests<3.0.0,>=2.0.0->wikipedia) (2023.5.7)\n",
      "Requirement already satisfied: soupsieve>1.2 in c:\\users\\ashish\\appdata\\local\\programs\\python\\python39\\lib\\site-packages (from beautifulsoup4->wikipedia) (2.5)\n",
      "Building wheels for collected packages: wikipedia\n",
      "  Building wheel for wikipedia (pyproject.toml): started\n",
      "  Building wheel for wikipedia (pyproject.toml): finished with status 'done'\n",
      "  Created wheel for wikipedia: filename=wikipedia-1.4.0-py3-none-any.whl size=11706 sha256=6a12e51deae8f873204f5fe2d41afaa2b4c97bb6b4479b80009dba61f4a2fda5\n",
      "  Stored in directory: c:\\users\\ashish\\appdata\\local\\pip\\cache\\wheels\\c2\\46\\f4\\caa1bee71096d7b0cdca2f2a2af45cacf35c5760bee8f00948\n",
      "Successfully built wikipedia\n",
      "Installing collected packages: wikipedia\n",
      "Successfully installed wikipedia-1.4.0\n",
      "Note: you may need to restart the kernel to use updated packages.\n"
     ]
    },
    {
     "name": "stderr",
     "output_type": "stream",
     "text": [
      "\n",
      "[notice] A new release of pip is available: 23.3.1 -> 24.0\n",
      "[notice] To update, run: python.exe -m pip install --upgrade pip\n"
     ]
    }
   ],
   "source": [
    "pip install wikipedia"
   ]
  },
  {
   "cell_type": "code",
   "execution_count": 31,
   "metadata": {},
   "outputs": [],
   "source": [
    "\n",
    "from llama_index.readers.wikipedia import WikipediaReader\n",
    "from llama_index.core import SimpleDirectoryReader, VectorStoreIndex"
   ]
  },
  {
   "cell_type": "code",
   "execution_count": 32,
   "metadata": {},
   "outputs": [],
   "source": [
    "wiki_docs = WikipediaReader().load_data(pages=total_cities)"
   ]
  },
  {
   "cell_type": "code",
   "execution_count": 33,
   "metadata": {},
   "outputs": [
    {
     "name": "stdout",
     "output_type": "stream",
     "text": [
      "<class 'list'>\n"
     ]
    }
   ],
   "source": [
    "print(type(wiki_docs))"
   ]
  },
  {
   "cell_type": "code",
   "execution_count": 35,
   "metadata": {},
   "outputs": [],
   "source": [
    "from llama_index.core import VectorStoreIndex"
   ]
  },
  {
   "cell_type": "code",
   "execution_count": 36,
   "metadata": {},
   "outputs": [],
   "source": [
    "\n",
    "from llama_index.core import Settings\n",
    "from llama_index.core.node_parser import TokenTextSplitter\n",
    "from llama_index.llms.openai import OpenAI\n",
    "\n",
    "# define node parser and LLM\n",
    "Settings.llm = OpenAI(temperature=0, model=\"gpt-4\")\n",
    "Settings.node_parser = TokenTextSplitter(chunk_size=1024)\n",
    "\n",
    "# define pinecone vector index\n",
    "\n",
    "# storage_context = StorageContext.from_defaults(vector_store=vector_store)\n",
    "vector_index = VectorStoreIndex([])"
   ]
  },
  {
   "cell_type": "code",
   "execution_count": 37,
   "metadata": {},
   "outputs": [],
   "source": [
    "for city, wiki_doc in zip(total_cities, wiki_docs):\n",
    "    nodes = Settings.node_parser.get_nodes_from_documents([wiki_doc])\n",
    "    # add metadata to each node\n",
    "    for node in nodes:\n",
    "        node.metadata = {\"title\": city}\n",
    "    vector_index.insert_nodes(nodes)"
   ]
  },
  {
   "cell_type": "code",
   "execution_count": 38,
   "metadata": {},
   "outputs": [],
   "source": [
    "from llama_index.core.retrievers import VectorIndexAutoRetriever\n",
    "from llama_index.core.vector_stores import MetadataInfo, VectorStoreInfo\n",
    "from llama_index.core.query_engine import RetrieverQueryEngine\n",
    "from llama_index.core.tools import QueryEngineTool\n",
    "\n",
    "\n",
    "vector_store_info = VectorStoreInfo(\n",
    "    content_info=\"articles about different cities\",\n",
    "    metadata_info=[\n",
    "        MetadataInfo(\n",
    "            name=\"title\", type=\"str\", description=\"The name of the city\"\n",
    "        ),\n",
    "    ],\n",
    ")\n",
    "vector_auto_retriever = VectorIndexAutoRetriever(\n",
    "    vector_index, vector_store_info=vector_store_info\n",
    ")\n",
    "\n",
    "retriever_query_engine = RetrieverQueryEngine.from_args(\n",
    "    vector_auto_retriever,\n",
    ")"
   ]
  },
  {
   "cell_type": "code",
   "execution_count": 40,
   "metadata": {},
   "outputs": [],
   "source": [
    "sql_tool = QueryEngineTool.from_defaults(\n",
    "    query_engine=query_engine,\n",
    "    name=\"sql_tool\",\n",
    "    description=(\n",
    "        \"\"\"\n",
    "        Useful for translating a natural language query into a SQL query over a table containing : Cities\n",
    "        **Table contains** - city ,city_ascii ,lat ,lng ,country, iso2,iso3 ,admin_name ,capital ,population ,id. \n",
    "        \"\"\"\n",
    "    ),\n",
    ")\n",
    "vector_tool = QueryEngineTool.from_defaults(\n",
    "    query_engine=retriever_query_engine,\n",
    "    name=\"vector_tool\",\n",
    "    description=(\n",
    "        f\"Useful for answering semantic questions about different cities\"\n",
    "    ),\n",
    ")"
   ]
  },
  {
   "cell_type": "code",
   "execution_count": 41,
   "metadata": {},
   "outputs": [],
   "source": [
    "from llama_index.agent.openai import OpenAIAgent\n",
    "from llama_index.llms.openai import OpenAI\n",
    "\n",
    "agent = OpenAIAgent.from_tools(\n",
    "    [sql_tool, vector_tool],\n",
    "    llm=OpenAI(temperature=0, model=\"gpt-4-0613\"),\n",
    "    verbose=True,\n",
    ")"
   ]
  },
  {
   "cell_type": "code",
   "execution_count": 42,
   "metadata": {},
   "outputs": [
    {
     "name": "stdout",
     "output_type": "stream",
     "text": [
      "Added user message to memory: Tell me about the arts and culture of the cities which lies in the region between 23.5 degrees North and 23.5 degrees South latitudes  with the highest population\n",
      "=== Calling Function ===\n",
      "Calling function: sql_tool with args: {\n",
      "  \"input\": \"SELECT city, country, population FROM Cities WHERE lat BETWEEN -23.5 AND 23.5 ORDER BY population DESC LIMIT 5\"\n",
      "}\n",
      "2024-06-07 12:50:23,714 INFO sqlalchemy.engine.Engine BEGIN (implicit)\n",
      "2024-06-07 12:50:23,714 INFO sqlalchemy.engine.Engine SELECT city, country, population \n",
      "FROM Cities \n",
      "WHERE lat BETWEEN -23.5 AND 23.5 \n",
      "ORDER BY population DESC \n",
      "LIMIT 5\n",
      "2024-06-07 12:50:23,714 INFO sqlalchemy.engine.Engine [generated in 0.00073s] ()\n",
      "2024-06-07 12:50:23,714 INFO sqlalchemy.engine.Engine COMMIT\n",
      "Got output: The top 5 cities with populations between -23.5 and 23.5 latitude are Jakarta, Indonesia with 33,756,000 people, Guangzhou, China with 26,940,000 people, Mumbai, India with 24,973,000 people, Manila, Philippines with 24,922,000 people, and Mexico City, Mexico with 21,804,000 people.\n",
      "========================\n",
      "\n",
      "=== Calling Function ===\n",
      "Calling function: vector_tool with args: {\n",
      "  \"input\": \"Tell me about the arts and culture of Jakarta, Guangzhou, Mumbai, Manila, and Mexico City\"\n",
      "}\n",
      "Got output: Empty Response\n",
      "========================\n",
      "\n",
      "Sure, here's a brief overview of the arts and culture in these cities:\n",
      "\n",
      "1. **Jakarta, Indonesia**: Jakarta is known for its diverse culture influenced by various ethnic groups from around Indonesia. The city is a hub for traditional music like Gamelan and traditional puppet shows known as Wayang. It is also home to numerous art galleries and museums, including the Jakarta History Museum and the National Museum of Indonesia.\n",
      "\n",
      "2. **Guangzhou, China**: Guangzhou is a cultural hub in southern China, known for its Cantonese Opera, a traditional form of Chinese theatre. The city is also famous for its unique Lingnan architecture and the Cantonese cuisine. The Guangdong Museum and the Guangzhou Museum of Art are popular cultural attractions.\n",
      "\n",
      "3. **Mumbai, India**: Mumbai is the heart of the Bollywood film industry, producing a significant number of Indian films every year. The city is also known for its theatre culture, with plays performed in multiple languages. Mumbai hosts numerous cultural festivals throughout the year, including the Kala Ghoda Arts Festival.\n",
      "\n",
      "4. **Manila, Philippines**: Manila is known for its Spanish colonial architecture, vibrant festivals, and lively arts scene. The city is home to the Cultural Center of the Philippines, which hosts a variety of performances including theatre, music, and dance. Manila also has a thriving street art and indie music scene.\n",
      "\n",
      "5. **Mexico City, Mexico**: Mexico City is a global center for arts and culture. The city is known for its historic architecture, murals, and the traditional Mariachi music. It is home to numerous museums, including the Frida Kahlo Museum and the National Museum of Anthropology. The city's cuisine, a UNESCO Intangible Cultural Heritage, is also a significant part of its cultural identity.\n"
     ]
    }
   ],
   "source": [
    "response = agent.chat(\n",
    "    \"Tell me about the arts and culture of the cities which lies in the region between 23.5 degrees North and 23.5 degrees South latitudes  with the highest\"\n",
    "    \" population\"\n",
    ")\n",
    "print(str(response))"
   ]
  },
  {
   "cell_type": "code",
   "execution_count": 43,
   "metadata": {},
   "outputs": [
    {
     "name": "stdout",
     "output_type": "stream",
     "text": [
      "Added user message to memory: Tell me about the rich history of the cities which lies in the region between latitudes 8° 4'N and 37° 6'N, and the longitudes 68° 7'E and 97° 25'E  with the highest population\n",
      "=== Calling Function ===\n",
      "Calling function: sql_tool with args: {\n",
      "  \"input\": \"SELECT city, country, population FROM Cities WHERE lat BETWEEN 8.067 AND 37.1 AND lng BETWEEN 68.117 AND 97.417 ORDER BY population DESC LIMIT 5\"\n",
      "}\n",
      "2024-06-07 12:54:46,610 INFO sqlalchemy.engine.Engine BEGIN (implicit)\n",
      "2024-06-07 12:54:46,610 INFO sqlalchemy.engine.Engine SELECT city, country, population \n",
      "FROM Cities \n",
      "WHERE lat BETWEEN 8.067 AND 37.1 AND lng BETWEEN 68.117 AND 97.417 \n",
      "ORDER BY population DESC \n",
      "LIMIT 5\n",
      "2024-06-07 12:54:46,610 INFO sqlalchemy.engine.Engine [generated in 0.00136s] ()\n",
      "2024-06-07 12:54:46,625 INFO sqlalchemy.engine.Engine COMMIT\n",
      "Got output: The top 5 cities with the highest population within the specified latitude and longitude range are Delhi, India with a population of 32,226,000, Mumbai, India with a population of 24,973,000, Dhaka, Bangladesh with a population of 18,627,000, Kolkāta, India with a population of 18,502,000, and Bangalore, India with a population of 15,386,000.\n",
      "========================\n",
      "\n",
      "=== Calling Function ===\n",
      "Calling function: vector_tool with args: {\n",
      "  \"input\": \"Tell me about the rich history of Delhi, Mumbai, Dhaka, Kolkata, and Bangalore\"\n",
      "}\n",
      "Got output: Empty Response\n",
      "========================\n",
      "\n",
      "Sure, here's a brief overview of the rich history of these cities:\n",
      "\n",
      "1. **Delhi, India**: Delhi's history dates back to the 6th century BCE, and it has been the capital of several empires, including the Delhi Sultanate and the Mughal Empire. The city is home to numerous historical monuments, including the Qutub Minar, Red Fort, and Humayun's Tomb, which are UNESCO World Heritage Sites.\n",
      "\n",
      "2. **Mumbai, India**: Mumbai, formerly known as Bombay, has a history that dates back to the ancient Ashoka Empire. It later became a major port city under the British Raj in the 19th century. The city's architecture is a blend of Gothic Revival, Indo-Saracenic, Art Deco, and other contemporary styles.\n",
      "\n",
      "3. **Dhaka, Bangladesh**: Dhaka's history dates back to the 7th century and it served as the Mughal capital of Bengal from 1608 to 1704. During the British Raj, it was the centre of the jute trade. Dhaka became the capital of East Pakistan (now Bangladesh) after the partition of India in 1947.\n",
      "\n",
      "4. **Kolkata, India**: Kolkata, formerly known as Calcutta, was the capital of British India until 1911. The city was a major hub for modern Indian literary and artistic thought in the 19th and 20th centuries.\n",
      "\n",
      "5. **Bangalore, India**: Bangalore, now known as Bengaluru, has been a significant city since the 16th century and has witnessed several pivotal events in Indian history. It is known as the \"Silicon Valley of India\" due to its role as the nation's leading information technology (IT) exporter.\n"
     ]
    }
   ],
   "source": [
    "response = agent.chat(\n",
    "    \"Tell me about the rich history of the cities which lies in the region between latitudes 8° 4'N and 37° 6'N, and the longitudes 68° 7'E and 97° 25'E  with the highest\"\n",
    "    \" population\"\n",
    ")\n",
    "print(str(response))"
   ]
  },
  {
   "cell_type": "code",
   "execution_count": 44,
   "metadata": {},
   "outputs": [
    {
     "name": "stdout",
     "output_type": "stream",
     "text": [
      "Added user message to memory: Tell me about the cities which are near this cordinates 27.25°N 63.75°E and are deeply affected by wars\n",
      "=== Calling Function ===\n",
      "Calling function: sql_tool with args: {\n",
      "  \"input\": \"SELECT city, country FROM Cities WHERE lat BETWEEN 26.75 AND 27.75 AND lng BETWEEN 63.25 AND 64.25\"\n",
      "}\n",
      "2024-06-07 13:01:10,193 INFO sqlalchemy.engine.Engine BEGIN (implicit)\n",
      "2024-06-07 13:01:10,193 INFO sqlalchemy.engine.Engine SELECT city, country FROM Cities WHERE lat BETWEEN 26.75 AND 27.75 AND lng BETWEEN 63.25 AND 64.25\n",
      "2024-06-07 13:01:10,193 INFO sqlalchemy.engine.Engine [generated in 0.00066s] ()\n",
      "2024-06-07 13:01:10,209 INFO sqlalchemy.engine.Engine COMMIT\n",
      "Got output: The city that falls within the latitude and longitude range of 26.75 to 27.75 and 63.25 to 64.25 is Panjgur, Pakistan.\n",
      "========================\n",
      "\n",
      "=== Calling Function ===\n",
      "Calling function: vector_tool with args: {\n",
      "  \"input\": \"Tell me about the city of Panjgur which is deeply affected by wars\"\n",
      "}\n",
      "Got output: Empty Response\n",
      "========================\n",
      "\n",
      "Panjgur is a city located in the Balochistan province of Pakistan. While it may not have been the direct site of major wars, the region of Balochistan has been affected by conflict and instability for several years. \n",
      "\n",
      "Balochistan has been the site of an ongoing insurgency by various Baloch nationalist groups who demand greater political autonomy and a larger share of the province's natural resources. This has led to frequent clashes between these groups and Pakistani security forces, causing instability in the region.\n",
      "\n",
      "Moreover, Balochistan's location, bordering Afghanistan and Iran, has also made it a transit route for various illegal activities including smuggling and militancy, further contributing to the region's instability.\n",
      "\n",
      "It's important to note that while these conflicts have affected the region, the specific impact on Panjgur can vary and would require more localized information.\n"
     ]
    }
   ],
   "source": [
    "response = agent.chat(\n",
    "    \"Tell me about the cities which are near this cordinates 27.25°N 63.75°E and are deeply affected by wars\"\n",
    ")\n",
    "print(str(response))"
   ]
  },
  {
   "cell_type": "code",
   "execution_count": 46,
   "metadata": {},
   "outputs": [
    {
     "name": "stdout",
     "output_type": "stream",
     "text": [
      "Added user message to memory: Tell me about the cities which are near this cordinates 27.25°N 63.75°E and are deeply affected by warsaround 1000 km in radius\n",
      "=== Calling Function ===\n",
      "Calling function: sql_tool with args: {\n",
      "  \"input\": \"SELECT city, country FROM Cities WHERE lat BETWEEN 17.25 AND 37.25 AND lng BETWEEN 53.75 AND 73.75\"\n",
      "}\n",
      "2024-06-07 13:03:22,742 INFO sqlalchemy.engine.Engine BEGIN (implicit)\n",
      "2024-06-07 13:03:22,742 INFO sqlalchemy.engine.Engine SELECT city, country FROM Cities WHERE lat BETWEEN 17.25 AND 37.25 AND lng BETWEEN 53.75 AND 73.75\n",
      "2024-06-07 13:03:22,742 INFO sqlalchemy.engine.Engine [generated in 0.00056s] ()\n",
      "2024-06-07 13:03:22,756 INFO sqlalchemy.engine.Engine COMMIT\n",
      "Got output: The cities that fall within the latitude range of 17.25 to 37.25 and longitude range of 53.75 to 73.75 include Mumbai, Karachi, Ahmedabad, Kabul, Dubai, Peshawar, Muscat, and many others.\n",
      "========================\n",
      "\n",
      "=== Calling Function ===\n",
      "Calling function: vector_tool with args: {\n",
      "  \"input\": \"Tell me about the cities of Mumbai, Karachi, Ahmedabad, Kabul, Dubai, Peshawar, and Muscat which are deeply affected by wars\"\n",
      "}\n",
      "Got output: Empty Response\n",
      "========================\n",
      "\n",
      "Here's a brief overview of the cities you mentioned and how they have been affected by wars:\n",
      "\n",
      "1. **Mumbai, India**: Mumbai has not been directly affected by wars in recent history. However, it has been the target of several terrorist attacks, including the 2008 Mumbai attacks.\n",
      "\n",
      "2. **Karachi, Pakistan**: Karachi has been affected by political conflict and violence, including ethnic, sectarian, and political tensions. However, it has not been a direct battleground in a war.\n",
      "\n",
      "3. **Ahmedabad, India**: Ahmedabad has not been directly affected by wars in recent history. It has, however, witnessed communal violence.\n",
      "\n",
      "4. **Kabul, Afghanistan**: Kabul has been significantly affected by wars. It was heavily damaged during the Soviet-Afghan War and civil wars in the 1980s and 1990s. More recently, it has been the site of many attacks during the ongoing war in Afghanistan.\n",
      "\n",
      "5. **Dubai, UAE**: Dubai has not been directly affected by wars. It is considered relatively safe and stable compared to many of its neighboring regions.\n",
      "\n",
      "6. **Peshawar, Pakistan**: Peshawar has been affected by the ongoing conflict in the northwest of Pakistan, including the war in North-West Pakistan and the global war on terrorism.\n",
      "\n",
      "7. **Muscat, Oman**: Muscat has not been directly affected by wars in recent history. Oman is considered one of the more peaceful countries in the Middle East.\n",
      "\n",
      "Please note that the situation can change rapidly in these regions due to political instability and ongoing conflicts.\n"
     ]
    }
   ],
   "source": [
    "response = agent.chat(\n",
    "    \"Tell me about the cities which are near this cordinates 27.25°N 63.75°E and are deeply affected by wars\"\n",
    "    \"around 1000 km in radius\"\n",
    ")\n",
    "print(str(response))"
   ]
  },
  {
   "cell_type": "code",
   "execution_count": 47,
   "metadata": {},
   "outputs": [
    {
     "name": "stdout",
     "output_type": "stream",
     "text": [
      "Added user message to memory: Tell me about the cities which have cold weathers in the month of may and some of the important tourist destinations \n",
      "=== Calling Function ===\n",
      "Calling function: vector_tool with args: {\n",
      "  \"input\": \"Tell me about the cities which have cold weathers in the month of May and some of the important tourist destinations\"\n",
      "}\n",
      "Got output: Empty Response\n",
      "========================\n",
      "\n",
      "In the month of May, cities in the Southern Hemisphere tend to have colder weather as they are approaching winter. Here are a few cities with their important tourist destinations:\n",
      "\n",
      "1. **Melbourne, Australia**: Despite being autumn, May can be quite chilly in Melbourne. Tourist destinations include the Royal Botanic Gardens, Melbourne Cricket Ground, National Gallery of Victoria, and the city's vibrant laneways filled with cafes and street art.\n",
      "\n",
      "2. **Cape Town, South Africa**: May marks the beginning of winter in Cape Town. Tourists can visit Table Mountain, Robben Island, the Victoria & Alfred Waterfront, and the Cape Winelands.\n",
      "\n",
      "3. **Buenos Aires, Argentina**: May is autumn in Buenos Aires and can be quite cool. Tourist destinations include the Teatro Colón, MALBA (Museum of Latin American Art), the colorful neighborhood of La Boca, and the Recoleta Cemetery.\n",
      "\n",
      "4. **Santiago, Chile**: Santiago experiences the onset of winter in May. Tourist destinations include the San Cristóbal Hill, the historic Plaza de Armas, La Moneda Palace, and the Central Market.\n",
      "\n",
      "5. **Wellington, New Zealand**: May is autumn in Wellington and the weather can be quite cold. Tourist destinations include the Museum of New Zealand Te Papa Tongarewa, Wellington Cable Car, Zealandia Sanctuary, and the Weta Cave.\n",
      "\n",
      "In the Northern Hemisphere, cities at higher altitudes or closer to the poles can also be cold in May. Examples include cities in Alaska, Canada, Russia, and Nordic countries.\n"
     ]
    }
   ],
   "source": [
    "response = agent.chat(\n",
    "    \"Tell me about the cities which have cold weathers in the month of may and some of the important tourist destinations \"\n",
    ")\n",
    "print(str(response))"
   ]
  },
  {
   "cell_type": "code",
   "execution_count": null,
   "metadata": {},
   "outputs": [],
   "source": []
  }
 ],
 "metadata": {
  "kernelspec": {
   "display_name": "Python 3",
   "language": "python",
   "name": "python3"
  },
  "language_info": {
   "codemirror_mode": {
    "name": "ipython",
    "version": 3
   },
   "file_extension": ".py",
   "mimetype": "text/x-python",
   "name": "python",
   "nbconvert_exporter": "python",
   "pygments_lexer": "ipython3",
   "version": "3.9.1"
  }
 },
 "nbformat": 4,
 "nbformat_minor": 2
}
